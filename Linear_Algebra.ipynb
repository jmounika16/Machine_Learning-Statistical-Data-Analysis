{
 "cells": [
  {
   "cell_type": "markdown",
   "metadata": {},
   "source": [
    "# MTH/CMSE 314  - Section 003 - Quiz 2\n",
    "\n",
    "This is an open Internet quiz.  Feel free to use anything on the Internet with one important exception...\n",
    "\n",
    "- **DO NOT** communicate live with other people during the quiz (either verbally or on-line).  The goal here is to find answers to problems as you would in the real world.  \n",
    "\n",
    "You will be given **20 minutes** to complete this quiz.  Use your time wisely. \n",
    "\n",
    "**HINTS:**\n",
    "- Neatness and grammar is important.  We will ignore all notes or code we can not read or understand.\n",
    "- Read the entire quiz from beginning to end before starting.  Not all questions are equal in **points vs. time** so plan your time accordingly.   \n",
    "- Some of the information provided my be a distraction. Do not assume you need to understand everything written to answer the questions. \n",
    "- Spaces for answers are provided. Delete the prompting text such as \"Put your answer to the above question here\" and replace it with your answer. Do not leave the prompting text with your answer.\n",
    "- Do not assume that the answer must be in the same format of the cell provided. Feel free to change the cell formatting (e.g., markdown to code, and vice versa) or add additional cells as needed to provide your answer.\n",
    "- When a question asks for an answer \"**in your own words**\" it is still okay to search the Internet for the answer as a reminder. *However*, we would like you to do more than cut and paste.  Make the answer your own. \n",
    "- If you get stuck, try not to leave an answer blank. It is better to include some notes or stub functions so we have an idea about your thinking process so we can give you partial credit.   \n",
    "- Always provid links to any references you find helpful. \n",
    "- Feel free to delete the provided check marks (&#9989;) as a way to keep track of which questions you have successfully completed. \n"
   ]
  },
  {
   "cell_type": "markdown",
   "metadata": {},
   "source": [
    "# Honor Code\n",
    "\n",
    "I, agree to neither give nor receive any help on this quiz from other people.  I also understand that providing answers to questions on this quiz to other students is also an academic misconduct violation as is live communication or receiving answers to questions on this quiz from other people. It is important to me to be a person of integrity and that means that ALL ANSWERS on this quiz are my answers.\n",
    "\n",
    "&#9989; **<font color=red>DO THIS:</font>** Include your name in the line below to acknowledge the above statement:"
   ]
  },
  {
   "cell_type": "markdown",
   "metadata": {},
   "source": [
    "Put your name here."
   ]
  },
  {
   "cell_type": "markdown",
   "metadata": {},
   "source": [
    "# Download Automatic Answer Check\n",
    "\n",
    "This quiz may require an automated answer checking system for grading.  The following cell will automatically download the latest version of the answer checker. "
   ]
  },
  {
   "cell_type": "code",
   "execution_count": 1,
   "metadata": {},
   "outputs": [],
   "source": [
    "from urllib.request import urlretrieve\n",
    "\n",
    "urlretrieve('https://raw.githubusercontent.com/colbrydi/jupytercheck/master/answercheck.py', \n",
    "            'answercheck.py');"
   ]
  },
  {
   "cell_type": "markdown",
   "metadata": {},
   "source": [
    "Verify you have Check Answer installed by running the following cell"
   ]
  },
  {
   "cell_type": "code",
   "execution_count": 2,
   "metadata": {},
   "outputs": [
    {
     "name": "stdout",
     "output_type": "stream",
     "text": [
      "Testing Check Answer\n",
      "Answer seems to be correct\n",
      "\n"
     ]
    }
   ],
   "source": [
    "from answercheck import checkanswer\n",
    "checkanswer(\"Check Answer\",'bd8337cd5327e54b2b4b15c6ec3703ed');"
   ]
  },
  {
   "cell_type": "code",
   "execution_count": 3,
   "metadata": {},
   "outputs": [],
   "source": [
    "%matplotlib inline \n",
    "import math\n",
    "import numpy as np\n",
    "import sympy as sym\n",
    "import matplotlib.pyplot as plt\n",
    "sym.init_printing()"
   ]
  },
  {
   "cell_type": "markdown",
   "metadata": {},
   "source": [
    "## Motivating problem: QR decomposition"
   ]
  },
  {
   "cell_type": "markdown",
   "metadata": {},
   "source": [
    "QR decomposition is a widely used algorithm in solving the least squares problem and the eigenvalue problem. The goal of the QR decomposition is to rewrite a matrix $A\\in\\mathbb{R}^{m\\times n}\\; (m\\geq n)$ as\n",
    "$$\n",
    "\\begin{align}\n",
    "A & = QR\\\\\n",
    "  & = Q\\begin{pmatrix}\n",
    "        r_{11} & r_{12} & r_{13} & \\cdots & r_{1n}\\\\\n",
    "        0      & r_{22} & r_{23} & \\cdots & r_{2n}\\\\\n",
    "        0      & 0      & r_{33} & \\cdots & r_{3n}\\\\\n",
    "        \\vdots &\\vdots  & \\vdots & \\vdots& \\vdots\\\\\n",
    "        0      &0       &  0     & \\cdots& r_{nn}\\\\\n",
    "        0      &0       &  0     & \\cdots& 0     \\\\\n",
    "        \\vdots &\\vdots  & \\vdots & \\vdots& \\vdots\\\\\n",
    "        0      &0       &  0     & \\cdots& 0     \\\\\n",
    "       \\end{pmatrix}\n",
    "\\end{align}\n",
    "$$\n",
    "Here, $Q$ is an orthogonal matrix (you do not need to understand the meaning of this) and $R$ is an upper triangular matrix.\n",
    "\n",
    "One way to compute $Q$ and $R$ is to utilize  **_Givens rotation_** (a special rotation transformation). We will present the idea with small square matrices."
   ]
  },
  {
   "cell_type": "markdown",
   "metadata": {},
   "source": [
    "\n",
    "Consider a vector \n",
    "$$\n",
    "\\begin{pmatrix}\n",
    "a\\\\\n",
    "b\n",
    "\\end{pmatrix}\n",
    "$$\n",
    "with $a \\neq 0, b\\neq 0$.\n",
    "\n",
    "The corresponding **_Givens rotation_** is to rotate the vector with angle\n",
    "$$\n",
    "\\theta = -arctan\\left(\\frac{a}{b}\\right).\n",
    "$$\n",
    "\n",
    "\n",
    "\n",
    "&#9989;  **<font color=red>QUESTION 1:</font>** Given the vector\n",
    "$\n",
    "v = \\begin{pmatrix}\n",
    "1 \\\\\n",
    "1\n",
    "\\end{pmatrix}\n",
    "$ and its corresponding angle $\\theta = -\\frac{\\pi}{4}$. Define a rotation matrix $G$ corresponding to the **_Givens_** transformation.\n",
    "(5 pts)\n"
   ]
  },
  {
   "cell_type": "code",
   "execution_count": 4,
   "metadata": {},
   "outputs": [],
   "source": [
    "# Put your answer to the above question here\n",
    "\n",
    "v = np.matrix([ [1],[1] ])\n",
    "theta = -np.arctan(1/1)\n",
    "T = np.matrix([[np.cos(theta),-np.sin(theta)],[np.sin(theta),np.cos(theta)]])"
   ]
  },
  {
   "cell_type": "code",
   "execution_count": 5,
   "metadata": {
    "nbgrader": {
     "grade": true,
     "grade_id": "cell-0632c5f40d0fe95b",
     "locked": true,
     "points": 5,
     "schema_version": 3,
     "solution": false,
     "task": false
    }
   },
   "outputs": [
    {
     "name": "stdout",
     "output_type": "stream",
     "text": [
      "Testing [[ 0.70711  0.70711]\n",
      " [-0.70711  0.70711]]\n",
      "Answer seems to be correct\n",
      "\n"
     ]
    }
   ],
   "source": [
    "from answercheck import checkanswer\n",
    "\n",
    "checkanswer.matrix(T,\"79d88d28a0f634a846ebb7b5e06a62a4\");"
   ]
  },
  {
   "cell_type": "markdown",
   "metadata": {},
   "source": [
    "----\n",
    "\n",
    "Now Consider the following $3 \\times 3$ matrix:\n",
    "$$\n",
    "A = \\begin{pmatrix}\n",
    "1 & \\sqrt{3} & 3 \\\\\n",
    "-\\sqrt{3} & 1 & 3 \\\\\n",
    "0 & 2 & 6\n",
    "\\end{pmatrix}.\n",
    "$$\n",
    "To obtain the QR decomposition, we can apply two **_Givens rotation_** transformations $G_1$ and $G_2$. \n",
    "\n",
    "The first rotation $G_1$ is **rotate the vector around z-axis anti-clock wise with angle $\\frac{\\pi}{3}$**. \n",
    "\n",
    "\n",
    "&#9989;  **<font color=red>QUESTION 2:</font>**  Define $G_1$ in the numpy format. (5pts)\n",
    "\n",
    "**<font color=red>Hint:</font>** $G_1$ is also a $3 \\times 3$ matrix.\n"
   ]
  },
  {
   "cell_type": "code",
   "execution_count": 17,
   "metadata": {},
   "outputs": [],
   "source": [
    "# Put your answer to the above question here\n",
    "\n",
    "angle = math.pi/3 # already in radians\n",
    "G1 = np.matrix([[np.cos(angle),-np.sin(angle),0],[np.sin(angle),np.cos(angle),0],[0,0,1]])\n",
    "#A=np.matrix([[1,math.sqrt(3),3],[-math.sqrt(3),1,3],[0,2,6]])\n"
   ]
  },
  {
   "cell_type": "code",
   "execution_count": 18,
   "metadata": {
    "nbgrader": {
     "grade": true,
     "grade_id": "cell-4a48cd08b023967c",
     "locked": true,
     "points": 5,
     "schema_version": 3,
     "solution": false,
     "task": false
    },
    "scrolled": true
   },
   "outputs": [
    {
     "name": "stdout",
     "output_type": "stream",
     "text": [
      "\n",
      "CheckWarning: Matrix contains negative values for zero...\n",
      "    Converting to positive values of zero using  ```A[A==-0] = 0```.\n",
      "\n",
      "Testing [[ 0.5     -0.86603  0.     ]\n",
      " [ 0.86603  0.5      0.     ]\n",
      " [ 0.       0.       1.     ]]\n",
      "Answer seems to be correct\n",
      "\n"
     ]
    }
   ],
   "source": [
    "from answercheck import checkanswer\n",
    "\n",
    "checkanswer.matrix(G1,\"10e0d5483fd7ef4570639297348a8c88\");"
   ]
  },
  {
   "cell_type": "markdown",
   "metadata": {},
   "source": [
    "----\n",
    "\n",
    "The second **_Givens rotation_** $G_2$ is defined using the following matrix:\n",
    "$$\n",
    "G_2 = \\begin{pmatrix}\n",
    "1 & 0 & 0\\\\\n",
    "0 &\\cos(-\\frac{\\pi}{4}) &   -\\sin(-\\frac{\\pi}{4})  \\\\\n",
    "0 &\\sin(-\\frac{\\pi}{4}) &   -\\cos(-\\frac{\\pi}{4}) \n",
    "\\end{pmatrix}.\n",
    "$$\n",
    "\n",
    "Given $G_1$ and $G_2$ we can calculate the $R$ and $Q$ matrices for $A$ using the following:\n",
    "$$\n",
    "R = G_2 G_1 A\n",
    "$$\n",
    "and\n",
    "$$ Q = G_1^T G_2^T.$$ Here, $G_1^T$ and $G_2^T$ are the transpose of $G_1$ and $G_2$.\n",
    "\n",
    "&#9989;  **<font color=red>QUESTION 3:</font>**  (5 points) Calculate $R$ and $Q$ with matrix multiplications. Calculate the determinant of $A$. (5 pts = 1pts for R+2pts for Q+2pts for determinant of A)"
   ]
  },
  {
   "cell_type": "code",
   "execution_count": 27,
   "metadata": {},
   "outputs": [
    {
     "name": "stdout",
     "output_type": "stream",
     "text": [
      "Matrix R:\n",
      " [[ 2.00000000e+00  2.22044605e-16 -1.09807621e+00]\n",
      " [ 0.00000000e+00  2.82842712e+00  7.14041817e+00]\n",
      " [ 1.11022302e-16  2.22044605e-16  1.34486321e+00]]\n",
      "Matrix Q:\n",
      " [[ 0.5         0.61237244 -0.61237244]\n",
      " [-0.8660254   0.35355339 -0.35355339]\n",
      " [ 0.          0.70710678  0.70710678]]\n",
      "Determinant of A:\n",
      " 7.6076951545867315\n"
     ]
    }
   ],
   "source": [
    "A = np.matrix([ [1,math.sqrt(3),3],[-math.sqrt(3),1,3],[0,2,6 ] ])\n",
    "\n",
    "angle_g2 = -math.pi/4\n",
    "G2 = np.matrix( [ [1,0,0],[0,math.cos(angle_g2),-math.sin(angle_g2)],[0,math.sin(angle_g2),math.cos(angle_g2)] ])\n",
    "##############################################\n",
    "# Put your answer to the above question here\n",
    "##############################################\n",
    "R = G2@G1@A\n",
    "Q = G1.transpose()@G2.transpose()\n",
    "A_det =np.linalg.det(A)\n",
    " \n",
    "##############################################\n",
    "# show the results\n",
    "print('Matrix R:\\n',R)\n",
    "print('Matrix Q:\\n',Q)\n",
    "print('Determinant of A:\\n',A_det)\n",
    "#np.allclose(Q*R,A)"
   ]
  },
  {
   "cell_type": "code",
   "execution_count": 28,
   "metadata": {
    "nbgrader": {
     "grade": true,
     "grade_id": "cell-fe7d51d90b3e4f3d",
     "locked": true,
     "points": 1,
     "schema_version": 3,
     "solution": false,
     "task": false
    },
    "scrolled": true
   },
   "outputs": [
    {
     "name": "stdout",
     "output_type": "stream",
     "text": [
      "\n",
      "CheckWarning: Matrix contains negative values for zero...\n",
      "    Converting to positive values of zero using  ```A[A==-0] = 0```.\n",
      "\n",
      "Testing [[ 2.       0.      -1.09808]\n",
      " [ 0.       2.82843  7.14042]\n",
      " [ 0.       0.       1.34486]]\n",
      "Answer seems to be correct\n",
      "\n"
     ]
    }
   ],
   "source": [
    "checkanswer.matrix(R,\"c5b8b46e06b1acddfa73d7a2fc5f1935\");"
   ]
  },
  {
   "cell_type": "code",
   "execution_count": 29,
   "metadata": {
    "nbgrader": {
     "grade": true,
     "grade_id": "cell-0fe481b9d4483b0c",
     "locked": true,
     "points": 2,
     "schema_version": 3,
     "solution": false,
     "task": false
    },
    "scrolled": true
   },
   "outputs": [
    {
     "name": "stdout",
     "output_type": "stream",
     "text": [
      "\n",
      "CheckWarning: Matrix contains negative values for zero...\n",
      "    Converting to positive values of zero using  ```A[A==-0] = 0```.\n",
      "\n",
      "Testing [[ 0.5      0.61237 -0.61237]\n",
      " [-0.86603  0.35355 -0.35355]\n",
      " [ 0.       0.70711  0.70711]]\n",
      "Answer seems to be correct\n",
      "\n"
     ]
    }
   ],
   "source": [
    "checkanswer.matrix(Q,\"c14574035147bc9df310a4aa035fdeff\");"
   ]
  },
  {
   "cell_type": "code",
   "execution_count": 30,
   "metadata": {
    "nbgrader": {
     "grade": true,
     "grade_id": "cell-eba969fae1eed254",
     "locked": true,
     "points": 2,
     "schema_version": 3,
     "solution": false,
     "task": false
    },
    "scrolled": true
   },
   "outputs": [
    {
     "name": "stdout",
     "output_type": "stream",
     "text": [
      "\n",
      "CheckWarning: passed variable is <class 'numpy.float64'> and not a numpy.matrix...\n",
      "    Trying to convert to a array matrix using ```A = np.matrix(A)```.\n",
      "\n",
      "Testing [[7.6077]]\n",
      "Answer seems to be correct\n",
      "\n"
     ]
    }
   ],
   "source": [
    "checkanswer.matrix(A_det,\"69622cf97379b9fff413cc2b59214fa9\");"
   ]
  },
  {
   "cell_type": "markdown",
   "metadata": {},
   "source": [
    "&#9989;  **<font color=red>QUESTION 4:</font>**  Can we exchange the order of applying the two **_Givens rotations_** in the above procedure? Why? (2pts)"
   ]
  },
  {
   "cell_type": "markdown",
   "metadata": {
    "nbgrader": {
     "grade": true,
     "grade_id": "cell-25afbadf28c52c50",
     "locked": false,
     "points": 2,
     "schema_version": 3,
     "solution": true,
     "task": false
    }
   },
   "source": [
    "**Put your answer here:** \n",
    "\n",
    "\n",
    "\n",
    "\n",
    "\n",
    "\n",
    "\n"
   ]
  },
  {
   "cell_type": "markdown",
   "metadata": {},
   "source": [
    "&#9989;  **<font color=red>QUESTION 5:</font>**  Use Python to calcualte the inverse of $A$. (5pts)"
   ]
  },
  {
   "cell_type": "code",
   "execution_count": 32,
   "metadata": {
    "scrolled": true
   },
   "outputs": [],
   "source": [
    "# Put your answer to the above question here\n",
    "A_inv = np.linalg.inv(A)"
   ]
  },
  {
   "cell_type": "code",
   "execution_count": 33,
   "metadata": {
    "nbgrader": {
     "grade": true,
     "grade_id": "cell-bf028132afbc4196",
     "locked": true,
     "points": 5,
     "schema_version": 3,
     "solution": false,
     "task": false
    }
   },
   "outputs": [
    {
     "name": "stdout",
     "output_type": "stream",
     "text": [
      "\n",
      "CheckWarning: Matrix contains negative values for zero...\n",
      "    Converting to positive values of zero using  ```A[A==-0] = 0```.\n",
      "\n",
      "Testing [[ 0.      -0.57735  0.28868]\n",
      " [ 1.36603  0.78868 -1.07735]\n",
      " [-0.45534 -0.26289  0.52578]]\n",
      "Answer seems to be correct\n",
      "\n"
     ]
    }
   ],
   "source": [
    "checkanswer.matrix(A_inv,\"f491a95f3aa006965d36493ad18bd631\");"
   ]
  },
  {
   "cell_type": "markdown",
   "metadata": {},
   "source": [
    "&#9989;  **<font color=red>QUESTION 6:</font>**  What is the elementry matrix corresponding to **add 3 times the first row to the third row**? Modify the 3 by 3 matrix below to answer this question. (3pts)"
   ]
  },
  {
   "cell_type": "code",
   "execution_count": 36,
   "metadata": {},
   "outputs": [],
   "source": [
    "# Put your answer to the above question here\n",
    "E=np.matrix([[1,0,0],[0,1,0],[3,0,1]])"
   ]
  },
  {
   "cell_type": "code",
   "execution_count": 37,
   "metadata": {
    "nbgrader": {
     "grade": true,
     "grade_id": "cell-bf69c94c90bc2982",
     "locked": true,
     "points": 3,
     "schema_version": 3,
     "solution": false,
     "task": false
    },
    "scrolled": true
   },
   "outputs": [
    {
     "name": "stdout",
     "output_type": "stream",
     "text": [
      "\n",
      "CheckWarning: passed matrix is int64 and not <class 'numpy.float64'>...\n",
      "    Trying to convert to float using ```A = A.astype(float)```.\n",
      "\n",
      "\n",
      "CheckWarning: Matrix contains negative values for zero...\n",
      "    Converting to positive values of zero using  ```A[A==-0] = 0```.\n",
      "\n",
      "Testing [[1. 0. 0.]\n",
      " [0. 1. 0.]\n",
      " [3. 0. 1.]]\n",
      "Answer seems to be correct\n",
      "\n"
     ]
    }
   ],
   "source": [
    "checkanswer.matrix(E,\"55ae1f9eb21df00c59dad623b9471506\");"
   ]
  },
  {
   "cell_type": "markdown",
   "metadata": {},
   "source": [
    "---------\n",
    "### Congratulations, you're done with your QUIZ\n",
    "\n",
    "Now, you just need to submit this assignment by uploading it to the course [Desire2Learn](http://d2l.msu.edu) web page for today's dropbox.\n",
    "\n",
    "&#9989; **<font color=red>DO THIS:</font>**\n",
    "- Download the Notebook to your desktop with the filename using the format **\"NETID-Quiz2.ipynb\"**.  Replace **NETID** in the filename with your personal MSU NetID (the stuff that comes before the @ symbol in your msu email address).\n",
    "- Upload the newly renamed notebook to the D2L dropbox. (improper naming of your notebook may cause points to be taken away).\n",
    "\n"
   ]
  },
  {
   "cell_type": "markdown",
   "metadata": {},
   "source": [
    "Written by Dr. Zhichao Peng, Michigan State University\n",
    "<a rel=\"license\" href=\"http://creativecommons.org/licenses/by-nc/4.0/\"><img alt=\"Creative Commons License\" style=\"border-width:0\" src=\"https://i.creativecommons.org/l/by-nc/4.0/88x31.png\" /></a><br />This work is licensed under a <a rel=\"license\" href=\"http://creativecommons.org/licenses/by-nc/4.0/\">Creative Commons Attribution-NonCommercial 4.0 International License</a>."
   ]
  }
 ],
 "metadata": {
  "celltoolbar": "Create Assignment",
  "kernelspec": {
   "display_name": "Python 3",
   "language": "python",
   "name": "python3"
  },
  "language_info": {
   "codemirror_mode": {
    "name": "ipython",
    "version": 3
   },
   "file_extension": ".py",
   "mimetype": "text/x-python",
   "name": "python",
   "nbconvert_exporter": "python",
   "pygments_lexer": "ipython3",
   "version": "3.8.5"
  }
 },
 "nbformat": 4,
 "nbformat_minor": 4
}
