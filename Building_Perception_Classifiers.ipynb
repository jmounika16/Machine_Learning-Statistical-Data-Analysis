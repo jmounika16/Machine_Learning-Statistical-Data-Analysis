{
 "cells": [
  {
   "cell_type": "markdown",
   "metadata": {},
   "source": [
    "### <p style=\"text-align: right;\"> &#9989; **Put your name here** </p>\n",
    "#### <p style=\"text-align: right;\"> &#9989; Put your group member names here</p>"
   ]
  },
  {
   "cell_type": "markdown",
   "metadata": {},
   "source": [
    "# Day 17 & 18 In-Class Assignment: The Perceptron Classifier"
   ]
  },
  {
   "cell_type": "markdown",
   "metadata": {},
   "source": [
    "### Agenda for today's class\n",
    "\n",
    "</p>\n",
    "\n",
    "1. [The Perceptron Model](#perceptron)\n",
    "1. [Loading and inspecting the data](#load-data)\n",
    "1. [Build a Perceptron class (first cut)](#build)\n",
    "1. [Visualing our results: plotting the decision boundary](#viz)\n"
   ]
  },
  {
   "cell_type": "markdown",
   "metadata": {},
   "source": [
    "---\n",
    "<a id=\"perceptron\"></a>\n",
    "## 1. The Perceptron Model"
   ]
  },
  {
   "cell_type": "markdown",
   "metadata": {},
   "source": [
    "The perceptron is one of the first used examples of what has come to be called a neural network. Invented in 1958, it was originally hailed as a way to achieve what had come to be called \"Artificial Intelligence\". However, it was quickly proved that the perceptron model was limited. The claims and subsequent refutations halted neural network research for a number of years.\n",
    "\n",
    "Perceptrons are used as a kind of **classifier** that we can train using examples. The simplest perceptron is what is known as a binary classifier. By this we mean that, we can provide individual examples of two classes (hence, a \"binary\" classifier) where the individuals are represented by some number of features/inputs. All examples use the same input features, but the particular feature values are used for the classification process. The goal is the create the classifier such that, when a never-seen-before individual is provided to the perceptron, it can correctly determine that individual's class\n",
    "\n",
    "There are ways to extend the perceptron's ability to deal with multiple classes (to classify the inputs as representing one of `n` classes instead of only two), but for this exercise we will only be concerned with a binary classifer."
   ]
  },
  {
   "cell_type": "markdown",
   "metadata": {},
   "source": [
    "The limitations of a binary perceptron are that the classes must be **linearly separable**. It is easier to show than to explain. Look at the two graphs below. The axes represent the range of values for the two input features. The dots represent individual input examples based on their corresponding feature values and the colors represent the class that each individual example belongs to. \n",
    "\n",
    "<img src=\"https://i.imgur.com/pU70IHB.png\">\n",
    "\n",
    "For experiment A, it is clear that we can draw a line through the 2D input/feature space such that we can separate the examples of the two classes. For experiment B, no such line separating the two classes exists. Furthermore, it is also clear that we could draw **many** lines for A such that we separate the two classes. \n",
    "\n",
    "**The limitations therefore are**:\n",
    "- a perceptron can only classify elements that are linearly separable\n",
    "- a perceptron cannot distinguish which linear boundary is \"better\"."
   ]
  },
  {
   "cell_type": "markdown",
   "metadata": {},
   "source": [
    "## It's a line\n",
    "\n",
    "The way to think about what a perceptron is doing then is that it is learning a line through the feature space. We will discuss that in a minute but accepting that is true, what is a line? A line is just a simple equation with the following form:\n",
    "\n",
    "$$y = mx + b $$\n",
    "\n",
    "Where `m` is the slope and `b` is the intercept. We are going to train our perceptron such that it finds `m` and `b` where that particular line separates two classes."
   ]
  },
  {
   "cell_type": "markdown",
   "metadata": {},
   "source": [
    "## The setup\n",
    "\n",
    "We are going to setup our perceptron as shown in the image below:\n",
    "\n",
    "<img src=\"https://i.imgur.com/gz05jKe.png\">\n",
    "\n",
    "Remembering that each individual example is represented as a set of features, a **vector** of features, we provide a **weight** associated with each feature input. When the features of a individual example is provided, we multipy each input by its associated weight and sum those products together. \n",
    "\n",
    "You may think of this process as multiplying two vectors (the input vector and the weight vector) together, index to index, and summing the resulting products as what is called the **dot product**. You might note that `numpy` provides such a function.\n",
    "\n",
    "Having obtained the dot product of feature inputs and weights, we add what is called a **bias term**. The bias is also associated with a weight (the constant 1 at the top of the inputs) though it's value is constant for all inputs. Altogether the dot product represents the `m` of our line equation and the bias represents the `b` of that equation. \n",
    "\n",
    "Having obtained the result, we pass that result through an **activation function**. Our activation function is typically a step function such that it yields either 1 or -1 indicating whether the particular input is part of one class (1) or the other (-1). Remember, binary classifier."
   ]
  },
  {
   "cell_type": "markdown",
   "metadata": {},
   "source": [
    "---\n",
    "<a id=\"load-data\"></a>\n",
    "## 2. Loading and inspecting the data\n",
    "\n",
    "Before we build a machine learning model, we need data to base it off of. The data set we are going to use is available from the course GitHub repository and is called, `binary-iris.csv`.\n",
    "\n",
    "You can download it from: `https://raw.githubusercontent.com/msu-cmse-courses/cmse202-S21-student/master/data/binary-iris.csv`\n",
    "\n",
    "This file is a variation on a classic, simple classification data set for iris flowers from 1936. It is used often as a very simple test of learning systems. The original (see https://en.wikipedia.org/wiki/Iris_flower_data_set ) has 4 classes and 4 inputs, for our experiments we have modified the file to have only 2 inputs and 2 classes. \n",
    "\n",
    "&#9989; **Do This:** Load the data into python and visualize (with a plot) to get a sense for what it looks like. Use different colors to represent the two different iris classifications."
   ]
  },
  {
   "cell_type": "code",
   "execution_count": 1,
   "metadata": {},
   "outputs": [
    {
     "data": {
      "text/plain": [
       "<matplotlib.legend.Legend at 0x7fcef295c198>"
      ]
     },
     "execution_count": 1,
     "metadata": {},
     "output_type": "execute_result"
    },
    {
     "data": {
      "image/png": "[encoded data removed]",
      "text/plain": [
       "<Figure size 432x288 with 1 Axes>"
      ]
     },
     "metadata": {
      "needs_background": "light"
     },
     "output_type": "display_data"
    }
   ],
   "source": [
    "# Do This: Load in the binary-iris.csv file and plot the data based on the iris classifications\n",
    "import pandas as pd\n",
    "import numpy as np\n",
    "import matplotlib.pyplot as plt\n",
    "data= pd.read_csv('binary-iris.csv')\n",
    "data.head()\n",
    "\n",
    "grouped= data.groupby('label')\n",
    "\n",
    "for name, group in grouped:\n",
    "    plt.scatter(group.sepal_length, group.sepal_width, marker='o', label=name)\n",
    "\n",
    "plt.legend()\n",
    "\n",
    "\n"
   ]
  },
  {
   "cell_type": "markdown",
   "metadata": {},
   "source": [
    "---\n",
    "<a id=\"build\"></a>\n",
    "## 3. Build a Perceptron class (first cut)"
   ]
  },
  {
   "cell_type": "markdown",
   "metadata": {},
   "source": [
    "Let's build a perceptron class but let's skip the learning process for the moment. We created a \"skeleton\" class for you to fill in.\n",
    "\n",
    "&#9989; **Do This:** Complete these two classes based on the specifications below:\n",
    "\n",
    "- an `__init__` method. Basically every class needs this to set instance attributes (i.e. the variables attached to `self` -- make sure you're using the `self.<variable>` notation!)\n",
    "  - It takes as an argument the labeled data (the two data features plus a data label, -1 or 1, at the end)\n",
    "\n",
    "  - it creates an instance variable `data` for the data passed in from the file. It should contain 2D vector where each row represents an example. The row should consists of two features and a class. The classes should be modified for 1 (iris setosa) and -1 (iris versicolor). \n",
    "\n",
    "  - it creates a 1D weight vector `weights` of the same shape as the number of features + 1. The **\"+ 1\"** extra term is for the bias weight. For now, fill the weights with some initial value (1.0 would be resonable choice to start). We'll fix that later. Remember that in our Perceptron model from above, the bias weight term is the first value in the list of weights.\n",
    "  - it creates a constant bias value `bias`, with 1 as the default\n",
    "\n",
    "- The class needs a `predict` method which takes a single argument, an array of features from a **single example** in the data set. It will do the following:\n",
    "   - multipy (*as a dot product*) the argument feature vector and the weights\n",
    "   - multiply the bias by its weight. Add that to the result.\n",
    "   - Apply the activation to the result to say whether the class of that input is -1 vs 1\n",
    "   - return that predicted class value"
   ]
  },
  {
   "cell_type": "code",
   "execution_count": 24,
   "metadata": {},
   "outputs": [],
   "source": [
    "## finish the skeleton code below:\n",
    "\n",
    "import numpy as np\n",
    "\n",
    "class Perceptron():\n",
    "\n",
    "    def __init__ (self, labeled_data):        \n",
    "        # set three data attributes: data, weights, bias\n",
    "        \n",
    "        self.data= np.array(labeled_data)\n",
    "        self.weights=np.ones(self.data.shape[1]+1)\n",
    "        self.bias = 1\n",
    "        \n",
    "    def predict(self, feature_set):\n",
    "        # predict a single result for one data point.\n",
    "        # should be the dot product of features * weights + (bias * bias_weght)\n",
    "        # return 1 if the result is > 0 and -1 of it isn't\n",
    "        bias_weight= self.bias * self.weights\n",
    "        pred= np.dot(self.data, self.weights[1:])[0] + self.bias * bias_weight[0]\n",
    "        \n",
    "        if pred > 0:\n",
    "            return 1\n",
    "        else:\n",
    "            return -1"
   ]
  },
  {
   "cell_type": "markdown",
   "metadata": {},
   "source": [
    "&#9989; **Do This:** Run the following code to test your new Perceptron class. See if it works, even though it is not yet a very good classifier. Iterate on your class until the output from this cell makes sense."
   ]
  },
  {
   "cell_type": "code",
   "execution_count": 27,
   "metadata": {},
   "outputs": [
    {
     "name": "stdout",
     "output_type": "stream",
     "text": [
      "weights:  [1. 1. 1. 1.]\n",
      "bias:  1\n",
      "prediction:  1\n",
      "[[ 5.1  3.5  1. ]\n",
      " [ 4.9  3.   1. ]\n",
      " [ 4.7  3.2  1. ]\n",
      " [ 4.6  3.1  1. ]\n",
      " [ 5.   3.6  1. ]\n",
      " [ 5.4  3.9  1. ]\n",
      " [ 4.6  3.4  1. ]\n",
      " [ 5.   3.4  1. ]\n",
      " [ 4.4  2.9  1. ]\n",
      " [ 4.9  3.1  1. ]\n",
      " [ 5.4  3.7  1. ]\n",
      " [ 4.8  3.4  1. ]\n",
      " [ 4.8  3.   1. ]\n",
      " [ 4.3  3.   1. ]\n",
      " [ 5.8  4.   1. ]\n",
      " [ 5.7  4.4  1. ]\n",
      " [ 5.4  3.9  1. ]\n",
      " [ 5.1  3.5  1. ]\n",
      " [ 5.7  3.8  1. ]\n",
      " [ 5.1  3.8  1. ]\n",
      " [ 5.4  3.4  1. ]\n",
      " [ 5.1  3.7  1. ]\n",
      " [ 4.6  3.6  1. ]\n",
      " [ 5.1  3.3  1. ]\n",
      " [ 4.8  3.4  1. ]\n",
      " [ 5.   3.   1. ]\n",
      " [ 5.   3.4  1. ]\n",
      " [ 5.2  3.5  1. ]\n",
      " [ 5.2  3.4  1. ]\n",
      " [ 4.7  3.2  1. ]\n",
      " [ 4.8  3.1  1. ]\n",
      " [ 5.4  3.4  1. ]\n",
      " [ 5.2  4.1  1. ]\n",
      " [ 5.5  4.2  1. ]\n",
      " [ 4.9  3.1  1. ]\n",
      " [ 5.   3.2  1. ]\n",
      " [ 5.5  3.5  1. ]\n",
      " [ 4.9  3.1  1. ]\n",
      " [ 4.4  3.   1. ]\n",
      " [ 5.1  3.4  1. ]\n",
      " [ 5.   3.5  1. ]\n",
      " [ 4.5  2.6  1. ]\n",
      " [ 4.4  3.2  1. ]\n",
      " [ 5.   3.5  1. ]\n",
      " [ 5.1  3.8  1. ]\n",
      " [ 4.8  3.   1. ]\n",
      " [ 5.1  3.8  1. ]\n",
      " [ 4.6  3.2  1. ]\n",
      " [ 5.3  3.7  1. ]\n",
      " [ 5.   3.3  1. ]\n",
      " [ 7.   3.2 -1. ]\n",
      " [ 6.4  3.2 -1. ]\n",
      " [ 6.9  3.1 -1. ]\n",
      " [ 5.5  2.3 -1. ]\n",
      " [ 6.5  2.8 -1. ]\n",
      " [ 5.7  2.8 -1. ]\n",
      " [ 6.3  3.3 -1. ]\n",
      " [ 4.9  2.4 -1. ]\n",
      " [ 6.6  2.9 -1. ]\n",
      " [ 5.2  2.7 -1. ]\n",
      " [ 5.   2.  -1. ]\n",
      " [ 5.9  3.  -1. ]\n",
      " [ 6.   2.2 -1. ]\n",
      " [ 6.1  2.9 -1. ]\n",
      " [ 5.6  2.9 -1. ]\n",
      " [ 6.7  3.1 -1. ]\n",
      " [ 5.6  3.  -1. ]\n",
      " [ 5.8  2.7 -1. ]\n",
      " [ 6.2  2.2 -1. ]\n",
      " [ 5.6  2.5 -1. ]\n",
      " [ 5.9  3.2 -1. ]\n",
      " [ 6.1  2.8 -1. ]\n",
      " [ 6.3  2.5 -1. ]\n",
      " [ 6.1  2.8 -1. ]\n",
      " [ 6.4  2.9 -1. ]\n",
      " [ 6.6  3.  -1. ]\n",
      " [ 6.8  2.8 -1. ]\n",
      " [ 6.7  3.  -1. ]\n",
      " [ 6.   2.9 -1. ]\n",
      " [ 5.7  2.6 -1. ]\n",
      " [ 5.5  2.4 -1. ]\n",
      " [ 5.5  2.4 -1. ]\n",
      " [ 5.8  2.7 -1. ]\n",
      " [ 6.   2.7 -1. ]\n",
      " [ 5.4  3.  -1. ]\n",
      " [ 6.   3.4 -1. ]\n",
      " [ 6.7  3.1 -1. ]\n",
      " [ 6.3  2.3 -1. ]\n",
      " [ 5.6  3.  -1. ]\n",
      " [ 5.5  2.5 -1. ]\n",
      " [ 5.5  2.6 -1. ]\n",
      " [ 6.1  3.  -1. ]\n",
      " [ 5.8  2.6 -1. ]\n",
      " [ 5.   2.3 -1. ]\n",
      " [ 5.6  2.7 -1. ]\n",
      " [ 5.7  3.  -1. ]\n",
      " [ 5.7  2.9 -1. ]\n",
      " [ 6.2  2.9 -1. ]\n",
      " [ 5.1  2.5 -1. ]\n",
      " [ 5.7  2.8 -1. ]]\n"
     ]
    }
   ],
   "source": [
    "## get data from file, just using file and string ops\n",
    "f = open(\"binary-iris.csv\")\n",
    "header = next(f) # dump the header line\n",
    "data = []\n",
    "for line in f:\n",
    "    fields = line.split(\",\")\n",
    "    # need to strip label because, as the last element, it has a \\n\n",
    "    label = (1.0 if fields[2].strip() == \"Iris-setosa\" else -1.0)\n",
    "    # the fields are strings until we conver them\n",
    "    data.append([float(fields[0]), float(fields[1]), label])\n",
    "f.close()\n",
    "\n",
    "p = Perceptron(data)\n",
    "print(\"weights: \", p.weights)\n",
    "print(\"bias: \", p.bias)\n",
    "print(\"prediction: \",p.predict([0,0])) # some arbitrary feature vector, just testing here\n",
    "print(p.data)"
   ]
  },
  {
   "cell_type": "markdown",
   "metadata": {},
   "source": [
    "### Learning\n",
    "\n",
    "OK, now the interesting part. **We need to learn the value of the weights, including the value of the bias weight, so that the predictions the `predict` method makes are good**. How to do that?\n",
    "\n",
    "The basic idea is this. We feed in the data that we have where we know the labels (and we do) to `predict`. We then compare the classification we want (from the existing data) and the classification we got (from the `predict` method). We use that difference to update **all the weights**. We do this for **each** of the data. \n",
    "\n",
    "However, we need to do one more thing. We need to not **over correct** the weights. If we do that then the weight values might swing wildly over time and never settle down. So we also provide a `learning_rate`. This rate reduces how much the weight changes. Overall then we use the following equation:\n",
    "\n",
    "$$ self.weights[i] = self.weights[i] +  self.learning\\_rate * (class\\_label - prediction\\_label) * feature[i] $$"
   ]
  },
  {
   "cell_type": "markdown",
   "metadata": {},
   "source": [
    "We do this for each feature/input of the example and each corresponding weight. We also include the bias weight. We do this for some number of iterations because, with a small `learning_rate`, we need to repeat the process to get the weight values correctly set. We also update the bias weight each time we update a weight. We use the same difference, `class_label-prediction_label` for that update (even though there is no feature value for the bias). If `weights[0]` is the bias weight, then that equation would be\n",
    "\n",
    "$$ self.weights[0] = self.weights[0] + learning\\_rate * (class\\_label - prediction\\_ label) $$"
   ]
  },
  {
   "cell_type": "markdown",
   "metadata": {},
   "source": [
    "### Modify our Perceptron class\n",
    "\n",
    "We need to update our `Perceptron` class to deal with learning.\n",
    "\n",
    "&#9989; **Do This:** Copy the class you wrote from above in the cell below and make the following changes:\n",
    "\n",
    "- `__init__` besides labeled data, it takes two more parameters: the **number of iterations of learning** you want and the **learning_rate**. These should be also stored as instance variables.\n",
    "- a method called `fit`. It performs the number of iterations of learning provided in `__init__` on all the labeled data as described\n",
    "- method called `errors`. It will print out the number of errors on predicted vs actual class labels and the weights at the end of the run."
   ]
  },
  {
   "cell_type": "code",
   "execution_count": 67,
   "metadata": {},
   "outputs": [],
   "source": [
    "## Fill in the skeleton\n",
    "\n",
    "class Perceptron():\n",
    "\n",
    "    def __init__ (self, labeled_data, iters, learning_rate):  \n",
    "        self.data= np.array(labeled_data)\n",
    "        self.weights=np.ones(self.data.shape[1])\n",
    "        self.bias = 1\n",
    "        self.iters= iters\n",
    "        self.l_r= learning_rate\n",
    "        \n",
    "        \n",
    "    def predict(self, feature_set):\n",
    "        bias_weight= self.bias * self.weights\n",
    "        pred= np.dot(feature_set, self.weights[1:]) + self.bias * bias_weight[0]\n",
    "        \n",
    "        if pred > 0:\n",
    "            return 1\n",
    "        else:\n",
    "            return -1\n",
    "    \n",
    "    def fit(self):\n",
    "        for i in range(self.iters):\n",
    "            for row in self.data:\n",
    "                update = self.l_r * (row[2] - self.predict(row[:2]))\n",
    "                self.weights[1:] += update * row[:2]\n",
    "                self.weights[0] += update\n",
    "                \n",
    "\n",
    "    \n",
    "\n",
    "    def errors(self):\n",
    "        # how many rows of the data don't match the provided label?\n",
    "        count=0\n",
    "        for row in self.data:\n",
    "            vals =self.predict(row[:2])\n",
    "            if row[2] == vals:\n",
    "                continue\n",
    "            else:\n",
    "                count +=1\n",
    "        print(count, self.weights[1:])\n",
    "            \n",
    "        \n",
    "        \n",
    "        \n",
    "        # delete this line when you add your code"
   ]
  },
  {
   "cell_type": "markdown",
   "metadata": {},
   "source": [
    "&#9989; **Do This:** Test your code with the provided code below. Change the number of iterations, the learning rate, and see what happens. Make sure `errors` prints out the weights as you will need them below. It might be useful to write a loop or two to explore how your number of errors changes as you modify the number of iterations or the learning rate."
   ]
  },
  {
   "cell_type": "code",
   "execution_count": 93,
   "metadata": {},
   "outputs": [
    {
     "name": "stdout",
     "output_type": "stream",
     "text": [
      "0 [-0.76   1.108]\n"
     ]
    }
   ],
   "source": [
    "f = open(\"binary-iris.csv\")\n",
    "header = next(f) # dump the header line\n",
    "data = []\n",
    "for line in f:\n",
    "    fields = line.split(\",\")\n",
    "    # need to strip label because, as the last element, it has a \\n\n",
    "    label = (1.0 if fields[2].strip() == \"Iris-setosa\" else -1.0)\n",
    "    # the fields are strings until we conver them\n",
    "    data.append([float(fields[0]), float(fields[1]), label])\n",
    "f.close()\n",
    "\n",
    "p = Perceptron(data, 100, 0.01)\n",
    "p.fit()\n",
    "p.errors()"
   ]
  },
  {
   "cell_type": "markdown",
   "metadata": {},
   "source": [
    "---\n",
    "<a id=\"viz\"></a>\n",
    "## 4. Visualing our results: plotting the decision boundary\n",
    "\n",
    "At this point, if you feel like your Perceptron class is working as intended, we can try and visualize this.\n",
    "\n",
    "Once we have run our algorithm, we can try and plot the decision boundary as well as the data entries.\n",
    "\n",
    "To make this happen, let's do some more math! **Remember** the actual bias is the bias constant you used times the bias weight (typically the first weight)\n",
    "\n",
    "Our basic calculation is $w \\cdot x + b = 0 $ where `w` and `x` are vectors and the operation \"$\\cdot$\" is the dot product. Since this is in two dimensions (two features for an input), we can rewrite this as: $w_1 * x_1 + w_2 * x_2 + b = 0$. \n",
    "\n",
    "That looks a lot like an equation of a line in the form of $Ax + By - C = 0$ if we assume $x_1 == x$ and $x_2 == y$. Let's isolate the x and y intercept:\n",
    "\n",
    "$ x = \\frac{-(b - w_2*y)}{w_1} $ but if $y=0$ (which it does at the x intercept) then $x = \\frac{-b}{w_1}$\n",
    "\n",
    "$ y = \\frac{-(b - w_1*x)}{w_2}$ but if $x=0$ (which it does at the y intercept) then $y = \\frac{-b}{w_2}$\n",
    "\n",
    "We get the following then:\n",
    "\n",
    "$slope = -\\frac{w_1}{w_2}$ and $intercept = \\frac{-b}{w_2}$\n",
    "\n",
    "Plug in your weights and plot the line. Plot the data as well where they are colored to indicate which class they belong to.\n",
    "\n",
    "The data should be stored in the `Perceptron` instance. Get the weights (which `error` should print out) and plot the line. The separate the two classes and plot each as a different color.\n"
   ]
  },
  {
   "cell_type": "code",
   "execution_count": 94,
   "metadata": {},
   "outputs": [
    {
     "data": {
      "image/png": "[encoded data removed]",
      "text/plain": [
       "<Figure size 432x288 with 1 Axes>"
      ]
     },
     "metadata": {
      "needs_background": "light"
     },
     "output_type": "display_data"
    }
   ],
   "source": [
    "# Write your code here to plot the decision boundary. Use the weights from your solution above!\n",
    "v=[]\n",
    "x=[]\n",
    "for i in range(8):\n",
    "    line= (-p.weights[0]/p.weights[2] + -p.weights[1]/p.weights[2]*i)\n",
    "    v.append(line)\n",
    "    x.append(i)\n",
    "        \n",
    "\n",
    "\n",
    "plt.plot(x, v)\n",
    "plt.plot()\n",
    "for name, group in grouped:\n",
    "    plt.scatter(group.sepal_length, group.sepal_width, marker='o', label=name)\n",
    "\n",
    "\n",
    "\n"
   ]
  },
  {
   "cell_type": "markdown",
   "metadata": {},
   "source": [
    "-----\n",
    "### Congratulations, we're done!\n",
    "\n",
    "Now, you just need to submit this assignment by uploading it to the course <a href=\"https://d2l.msu.edu/\">Desire2Learn</a> web page for today's submission folder (Don't forget to add your names in the first cell).\n"
   ]
  },
  {
   "cell_type": "markdown",
   "metadata": {},
   "source": [
    "&#169; Copyright Michigan State University Board of Trustees"
   ]
  }
 ],
 "metadata": {
  "kernelspec": {
   "display_name": "Python 3",
   "language": "python",
   "name": "python3"
  },
  "language_info": {
   "codemirror_mode": {
    "name": "ipython",
    "version": 3
   },
   "file_extension": ".py",
   "mimetype": "text/x-python",
   "name": "python",
   "nbconvert_exporter": "python",
   "pygments_lexer": "ipython3",
   "version": "3.7.3"
  }
 },
 "nbformat": 4,
 "nbformat_minor": 4
}
