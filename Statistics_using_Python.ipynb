{
 "cells": [
  {
   "cell_type": "markdown",
   "metadata": {},
   "source": [
    "### <p style=\"text-align: right;\"> &#9989; Mounika Jetti</p>\n",
    "\n",
    "#### <p style=\"text-align: right;\"> &#9989; Put your group member names here.</p>"
   ]
  },
  {
   "cell_type": "markdown",
   "metadata": {},
   "source": [
    "# Day 9 In-Class: Cleaning and Analyzing Economic Data\n",
    "\n",
    "\n",
    "\n",
    "\n",
    "<img src=\"http://2oqz471sa19h3vbwa53m33yj-wpengine.netdna-ssl.com/wp-content/uploads/2018/10/world-economy-gdp.jpg\" width=500px>"
   ]
  },
  {
   "cell_type": "markdown",
   "metadata": {},
   "source": [
    "## Goals for today's in-class project\n",
    "\n",
    "- Review some basic statistics\n",
    "- Load in data and clean Pandas dataframes\n",
    "- Learn different ways to index Pandas dataframes \n",
    "- Analyze different countries GDP data\n",
    "- Practice using online research to learn new programming skills\n"
   ]
  },
  {
   "cell_type": "markdown",
   "metadata": {},
   "source": [
    "---\n",
    "## A short statistics Review"
   ]
  },
  {
   "cell_type": "markdown",
   "metadata": {},
   "source": [
    "Today we will start off by reviewing some basic statistical measures.\n",
    "\n",
    "The \"**mean**\", or average, of a set of values is calculated by adding up all of the values and dividing that result by the total count. Like so:\n",
    "\n",
    "- Mean (Average) = Sum of observations / Number of observations\n",
    "\n",
    "The \"**median**\" is the value that divides the set of values into two halves or the \"middle value\". Thought of another way:\n",
    "\n",
    "- Median = Midpoint of a frequency distribution or the middle value when the values are sorted from low to high\n",
    "\n",
    "When using the mean or median to analyze or understand the nature of your data, it is important to remember that:\n",
    "* The mean is very sensitive to outliers in the data. If there are extreme values in your data, the mean may be skewed by those values. \n",
    "* The median is some times considered a \"resistant statistic\"  because a small number of extreme outliers will not significantly alter the median. After all, the median is just a marker for where the \"middle\" is in the data.\n",
    " \n",
    "To understand how widely spread a distribution of values is, we look at the **variance** and the **standard deviation**:\n",
    "\n",
    "- Variance: this is the expected value of the squared deviation of a random variable from its average value. In simpler terms, you can think of it as a measure of how \"spread out\" values in the dataset are. \n",
    "    \n",
    "- Standard Deviation: this is simply the square root of variance. It is a another measurement of the variation or dispersion of a set of values."
   ]
  },
  {
   "cell_type": "markdown",
   "metadata": {},
   "source": [
    "**A quick reflection**: As we mentioned above, the mean can be sensitive to the existence of outliers. Look at the example below."
   ]
  },
  {
   "cell_type": "code",
   "execution_count": 1,
   "metadata": {},
   "outputs": [
    {
     "name": "stdout",
     "output_type": "stream",
     "text": [
      "The mean is: 6.0\n",
      "The median is: 3.0\n"
     ]
    }
   ],
   "source": [
    "import numpy as np\n",
    "\n",
    "# Create a list where most of the values are within a similar range, but one is a clear outlier\n",
    "X = [3,2,1,20,4]\n",
    "\n",
    "print(\"The mean is:\",np.mean(X))\n",
    "print(\"The median is:\",np.median(X))"
   ]
  },
  {
   "cell_type": "markdown",
   "metadata": {},
   "source": [
    "# Practice calculating statistics using Python\n",
    "\n",
    "### Computing standard deviation by hand\n",
    "\n",
    "&#9989;&nbsp; **Create a function** that takes in a list of values and calculates the standard deviation using only basic python functions. You should be able to do it without importing any packages (i.e. no np.std, np.mean etc..)"
   ]
  },
  {
   "cell_type": "markdown",
   "metadata": {},
   "source": [
    "### $$ \\sigma = \\sqrt{\\frac{\\sum\\limits_{i=1}^{N} (x_{i}-\\mu)^2}{N}} $$\n",
    "\n",
    "where the symbols in this equation represent the following:\n",
    "\n",
    "* $\\sigma$: Standard Deviation\n",
    "* $\\mu$: Mean\n",
    "* $N$: Number of observations\n",
    "* $x_{i}$: the value of dataset at position $i$"
   ]
  },
  {
   "cell_type": "code",
   "execution_count": 9,
   "metadata": {},
   "outputs": [
    {
     "data": {
      "text/plain": [
       "7.0710678118654755"
      ]
     },
     "execution_count": 9,
     "metadata": {},
     "output_type": "execute_result"
    }
   ],
   "source": [
    "# Put your code here\n",
    "import math\n",
    "def calculate_standard_deviation(x):\n",
    "    mean = sum(x)/len(x)\n",
    "    std = math.sqrt(sum([(i-mean)**2 for i in x])/len(x))\n",
    "    return std\n"
   ]
  },
  {
   "cell_type": "markdown",
   "metadata": {},
   "source": [
    "&#9989;&nbsp; **Check your function for accuracy**\n",
    "\n",
    "Call your function using the variable `test_list` (provided below) as the input and compare your function's output with that of `np.std()` to make sure you calculated standard deviation correctly."
   ]
  },
  {
   "cell_type": "code",
   "execution_count": null,
   "metadata": {},
   "outputs": [],
   "source": [
    "import matplotlib.pyplot as plt\n",
    "import numpy as np\n",
    "%matplotlib inline"
   ]
  },
  {
   "cell_type": "code",
   "execution_count": 10,
   "metadata": {},
   "outputs": [
    {
     "name": "stdout",
     "output_type": "stream",
     "text": [
      "4.681523968396046\n",
      "4.681523968396046\n"
     ]
    }
   ],
   "source": [
    "test_list = [1,3,5,10,15,5]\n",
    "\n",
    "# Put your code for comparing the answers here\n",
    "print(calculate_standard_deviation(test_list))\n",
    "print(np.std(test_list))"
   ]
  },
  {
   "cell_type": "markdown",
   "metadata": {},
   "source": [
    "&#9989;&nbsp; Now, look at the the following distribution of values generated using one of NumPy's built-in functions. **Without computing anything do you think the mean will be greater than, less than, or equal to the median? Explain why below.**"
   ]
  },
  {
   "cell_type": "code",
   "execution_count": 12,
   "metadata": {
    "scrolled": true
   },
   "outputs": [
    {
     "data": {
      "image/png": "[encoded data removed]",
      "text/plain": [
       "<Figure size 432x288 with 1 Axes>"
      ]
     },
     "metadata": {
      "needs_background": "light"
     },
     "output_type": "display_data"
    }
   ],
   "source": [
    "# You might not be familiar this with random number generator, that's OK. This is one of _many_ that are available in NumPy.\n",
    "import matplotlib.pyplot as plt\n",
    "random_distribution = np.random.wald(200,500,size=1000)\n",
    "# Now we make a histogram of the numbers\n",
    "hist = plt.hist(random_distribution,bins=50,color=\"k\",alpha=0.5) #what's the alpha argument doing?\n",
    "ylabel = plt.ylabel(\"Frequency\")\n",
    "xlabel = plt.xlabel(\"Value\")\n",
    "title = plt.title(\"Wald Distribution\")"
   ]
  },
  {
   "cell_type": "markdown",
   "metadata": {},
   "source": [
    "<font size=+3>&#9998;</font> *Mean will be greater than median. Since there are less number of outliers and also less number of points are present to the left of the peak, this will cause the median to be a greater value. Not sure how big median will be when compared to mean. But, it should be definitely be higher*"
   ]
  },
  {
   "cell_type": "markdown",
   "metadata": {},
   "source": [
    "&#9989;&nbsp; **Now lets actually compute the mean and median and visualize them on the distribution graph.**\n",
    "\n",
    "Add two vertical lines with different colors where the mean and median are using Matplotlib's [`plt.axvline()`](https://matplotlib.org/3.1.1/api/_as_gen/matplotlib.pyplot.axvline.html) function -- this might be new to you, so make sure you understand how it works!\n",
    "\n",
    "**Make sure you label your lines and include a legend.**"
   ]
  },
  {
   "cell_type": "code",
   "execution_count": 16,
   "metadata": {},
   "outputs": [
    {
     "data": {
      "text/plain": [
       "<matplotlib.lines.Line2D at 0x19c24a2d670>"
      ]
     },
     "execution_count": 16,
     "metadata": {},
     "output_type": "execute_result"
    },
    {
     "data": {
      "image/png": "[encoded data removed]",
      "text/plain": [
       "<Figure size 432x288 with 1 Axes>"
      ]
     },
     "metadata": {
      "needs_background": "light"
     },
     "output_type": "display_data"
    }
   ],
   "source": [
    "hist = plt.hist(random_distribution,bins=50,color=\"k\",alpha=0.5)\n",
    "# Add your additional plotting commands here\n",
    "plt.axvline(np.mean(random_distribution))\n",
    "plt.axvline(np.median(random_distribution), color='r')"
   ]
  },
  {
   "cell_type": "markdown",
   "metadata": {},
   "source": [
    "<font size=20px>&#128721;</font>\n",
    "Check if your answer was correct\n"
   ]
  },
  {
   "cell_type": "markdown",
   "metadata": {},
   "source": [
    "&#9989;&nbsp; **Was your prediction correct? Explain why the mean is greater than median in this example.**"
   ]
  },
  {
   "cell_type": "markdown",
   "metadata": {},
   "source": [
    "<font size=+3>&#9998;</font> *I think my prediction is correct. Since there are less number of outliers and also less number of points are present to the left of the peak, this will cause the median to be a greater value. *"
   ]
  },
  {
   "cell_type": "markdown",
   "metadata": {},
   "source": [
    "---"
   ]
  },
  {
   "cell_type": "markdown",
   "metadata": {},
   "source": [
    "\n",
    "# Part 2: Loading in and cleaning economic data\n",
    "\n",
    "The next part we will focus on transforming and manipulating a dataset using Pandas. As data scientist/computational professional in training, one of the goals we want you to accomplish is to be comfortable searching through online resources to try and solve problems. There are far too many functions and concepts in programming to remember everything so in practice it's essential to utilize package documentation, stack overflow, etc. Some of the questions you will see below will ask you to use or look for a function you've never used before to get you to practice Googling questions that help you accomplish your task.\n"
   ]
  },
  {
   "cell_type": "markdown",
   "metadata": {},
   "source": [
    "---"
   ]
  },
  {
   "cell_type": "markdown",
   "metadata": {},
   "source": [
    "We will be analyzing a dataset from the World Bank containing yearly GDP data for countries from 1960-2018. The GDP numbers have been converted to USD for all countries by the exchange rate at the time. Which is important to note because depending on the exchange rates at the time this could over/under value the non US countries numbers or increase the variance of GDP.\n",
    "\n",
    "Link to dataset: https://data.worldbank.org/indicator/ny.gdp.mktp.cd\n",
    "\n",
    "GDP stands for **Gross Domestic Product** and it is equal to the market value of all the finished goods and services produced within a country's borders in a specific time period.\n",
    "\n",
    "GDP = Consumer Spending + Private Investment + Government Expenditure + Net Exports\n",
    "\n",
    "---\n",
    "\n",
    "### Cleaning data is an important part analyzing data.\n",
    "\n",
    "First, we're going to load in the GDP.csv dataset into a Pandas Dataframe and explore the original structure of the data and think about if it could be formatted in a more useful way.\n",
    "\n",
    "Make sure you import the Pandas module before moving on!"
   ]
  },
  {
   "cell_type": "code",
   "execution_count": 17,
   "metadata": {},
   "outputs": [],
   "source": [
    "# put your Pandas import command here\n",
    "import pandas as pd"
   ]
  },
  {
   "cell_type": "markdown",
   "metadata": {},
   "source": [
    "&#9989;&nbsp; **Load in the GDP.csv file using `pd.read_csv()` and display the first few lines using `.head()`. Make sure you add the argument `encoding=\"ISO-8859-1\"` to ensure that the data is read in correctly**\n",
    "\n",
    "Use `gdp` as the variable name for storing your dataframe as indicated in the code cell below."
   ]
  },
  {
   "cell_type": "code",
   "execution_count": 30,
   "metadata": {},
   "outputs": [
    {
     "data": {
      "text/html": [
       "<div>\n",
       "<style scoped>\n",
       "    .dataframe tbody tr th:only-of-type {\n",
       "        vertical-align: middle;\n",
       "    }\n",
       "\n",
       "    .dataframe tbody tr th {\n",
       "        vertical-align: top;\n",
       "    }\n",
       "\n",
       "    .dataframe thead th {\n",
       "        text-align: right;\n",
       "    }\n",
       "</style>\n",
       "<table border=\"1\" class=\"dataframe\">\n",
       "  <thead>\n",
       "    <tr style=\"text-align: right;\">\n",
       "      <th></th>\n",
       "      <th>Country Name</th>\n",
       "      <th>Country Code</th>\n",
       "      <th>1960</th>\n",
       "      <th>1961</th>\n",
       "      <th>1962</th>\n",
       "      <th>1963</th>\n",
       "      <th>1964</th>\n",
       "      <th>1965</th>\n",
       "      <th>1966</th>\n",
       "      <th>1967</th>\n",
       "      <th>...</th>\n",
       "      <th>2009</th>\n",
       "      <th>2010</th>\n",
       "      <th>2011</th>\n",
       "      <th>2012</th>\n",
       "      <th>2013</th>\n",
       "      <th>2014</th>\n",
       "      <th>2015</th>\n",
       "      <th>2016</th>\n",
       "      <th>2017</th>\n",
       "      <th>2018</th>\n",
       "    </tr>\n",
       "  </thead>\n",
       "  <tbody>\n",
       "    <tr>\n",
       "      <th>0</th>\n",
       "      <td>Afghanistan</td>\n",
       "      <td>AFG</td>\n",
       "      <td>5.377778e+08</td>\n",
       "      <td>5.488889e+08</td>\n",
       "      <td>5.466667e+08</td>\n",
       "      <td>7.511112e+08</td>\n",
       "      <td>8.000000e+08</td>\n",
       "      <td>1.006667e+09</td>\n",
       "      <td>1.400000e+09</td>\n",
       "      <td>1.673333e+09</td>\n",
       "      <td>...</td>\n",
       "      <td>1.243909e+10</td>\n",
       "      <td>1.585657e+10</td>\n",
       "      <td>1.780428e+10</td>\n",
       "      <td>2.000162e+10</td>\n",
       "      <td>2.056105e+10</td>\n",
       "      <td>2.048487e+10</td>\n",
       "      <td>1.990711e+10</td>\n",
       "      <td>1.936264e+10</td>\n",
       "      <td>2.019176e+10</td>\n",
       "      <td>1.936297e+10</td>\n",
       "    </tr>\n",
       "    <tr>\n",
       "      <th>1</th>\n",
       "      <td>Albania</td>\n",
       "      <td>ALB</td>\n",
       "      <td>NaN</td>\n",
       "      <td>NaN</td>\n",
       "      <td>NaN</td>\n",
       "      <td>NaN</td>\n",
       "      <td>NaN</td>\n",
       "      <td>NaN</td>\n",
       "      <td>NaN</td>\n",
       "      <td>NaN</td>\n",
       "      <td>...</td>\n",
       "      <td>1.204421e+10</td>\n",
       "      <td>1.192695e+10</td>\n",
       "      <td>1.289087e+10</td>\n",
       "      <td>1.231978e+10</td>\n",
       "      <td>1.277628e+10</td>\n",
       "      <td>1.322825e+10</td>\n",
       "      <td>1.138693e+10</td>\n",
       "      <td>1.186135e+10</td>\n",
       "      <td>1.302506e+10</td>\n",
       "      <td>1.505888e+10</td>\n",
       "    </tr>\n",
       "    <tr>\n",
       "      <th>2</th>\n",
       "      <td>Algeria</td>\n",
       "      <td>DZA</td>\n",
       "      <td>2.723649e+09</td>\n",
       "      <td>2.434777e+09</td>\n",
       "      <td>2.001469e+09</td>\n",
       "      <td>2.703015e+09</td>\n",
       "      <td>2.909352e+09</td>\n",
       "      <td>3.136259e+09</td>\n",
       "      <td>3.039835e+09</td>\n",
       "      <td>3.370843e+09</td>\n",
       "      <td>...</td>\n",
       "      <td>1.370000e+11</td>\n",
       "      <td>1.610000e+11</td>\n",
       "      <td>2.000000e+11</td>\n",
       "      <td>2.090000e+11</td>\n",
       "      <td>2.100000e+11</td>\n",
       "      <td>2.140000e+11</td>\n",
       "      <td>1.660000e+11</td>\n",
       "      <td>1.600000e+11</td>\n",
       "      <td>1.680000e+11</td>\n",
       "      <td>1.810000e+11</td>\n",
       "    </tr>\n",
       "    <tr>\n",
       "      <th>3</th>\n",
       "      <td>American Samoa</td>\n",
       "      <td>ASM</td>\n",
       "      <td>NaN</td>\n",
       "      <td>NaN</td>\n",
       "      <td>NaN</td>\n",
       "      <td>NaN</td>\n",
       "      <td>NaN</td>\n",
       "      <td>NaN</td>\n",
       "      <td>NaN</td>\n",
       "      <td>NaN</td>\n",
       "      <td>...</td>\n",
       "      <td>6.780000e+08</td>\n",
       "      <td>5.760000e+08</td>\n",
       "      <td>5.740000e+08</td>\n",
       "      <td>6.440000e+08</td>\n",
       "      <td>6.410000e+08</td>\n",
       "      <td>6.430000e+08</td>\n",
       "      <td>6.610000e+08</td>\n",
       "      <td>6.530000e+08</td>\n",
       "      <td>6.340000e+08</td>\n",
       "      <td>NaN</td>\n",
       "    </tr>\n",
       "    <tr>\n",
       "      <th>4</th>\n",
       "      <td>Andorra</td>\n",
       "      <td>AND</td>\n",
       "      <td>NaN</td>\n",
       "      <td>NaN</td>\n",
       "      <td>NaN</td>\n",
       "      <td>NaN</td>\n",
       "      <td>NaN</td>\n",
       "      <td>NaN</td>\n",
       "      <td>NaN</td>\n",
       "      <td>NaN</td>\n",
       "      <td>...</td>\n",
       "      <td>3.660531e+09</td>\n",
       "      <td>3.355695e+09</td>\n",
       "      <td>3.442063e+09</td>\n",
       "      <td>3.164615e+09</td>\n",
       "      <td>3.281585e+09</td>\n",
       "      <td>3.350736e+09</td>\n",
       "      <td>2.811489e+09</td>\n",
       "      <td>2.877312e+09</td>\n",
       "      <td>3.013387e+09</td>\n",
       "      <td>3.236544e+09</td>\n",
       "    </tr>\n",
       "  </tbody>\n",
       "</table>\n",
       "<p>5 rows × 61 columns</p>\n",
       "</div>"
      ],
      "text/plain": [
       "     Country Name Country Code          1960          1961          1962  \\\n",
       "0     Afghanistan          AFG  5.377778e+08  5.488889e+08  5.466667e+08   \n",
       "1         Albania          ALB           NaN           NaN           NaN   \n",
       "2         Algeria          DZA  2.723649e+09  2.434777e+09  2.001469e+09   \n",
       "3  American Samoa          ASM           NaN           NaN           NaN   \n",
       "4         Andorra          AND           NaN           NaN           NaN   \n",
       "\n",
       "           1963          1964          1965          1966          1967  ...  \\\n",
       "0  7.511112e+08  8.000000e+08  1.006667e+09  1.400000e+09  1.673333e+09  ...   \n",
       "1           NaN           NaN           NaN           NaN           NaN  ...   \n",
       "2  2.703015e+09  2.909352e+09  3.136259e+09  3.039835e+09  3.370843e+09  ...   \n",
       "3           NaN           NaN           NaN           NaN           NaN  ...   \n",
       "4           NaN           NaN           NaN           NaN           NaN  ...   \n",
       "\n",
       "           2009          2010          2011          2012          2013  \\\n",
       "0  1.243909e+10  1.585657e+10  1.780428e+10  2.000162e+10  2.056105e+10   \n",
       "1  1.204421e+10  1.192695e+10  1.289087e+10  1.231978e+10  1.277628e+10   \n",
       "2  1.370000e+11  1.610000e+11  2.000000e+11  2.090000e+11  2.100000e+11   \n",
       "3  6.780000e+08  5.760000e+08  5.740000e+08  6.440000e+08  6.410000e+08   \n",
       "4  3.660531e+09  3.355695e+09  3.442063e+09  3.164615e+09  3.281585e+09   \n",
       "\n",
       "           2014          2015          2016          2017          2018  \n",
       "0  2.048487e+10  1.990711e+10  1.936264e+10  2.019176e+10  1.936297e+10  \n",
       "1  1.322825e+10  1.138693e+10  1.186135e+10  1.302506e+10  1.505888e+10  \n",
       "2  2.140000e+11  1.660000e+11  1.600000e+11  1.680000e+11  1.810000e+11  \n",
       "3  6.430000e+08  6.610000e+08  6.530000e+08  6.340000e+08           NaN  \n",
       "4  3.350736e+09  2.811489e+09  2.877312e+09  3.013387e+09  3.236544e+09  \n",
       "\n",
       "[5 rows x 61 columns]"
      ]
     },
     "execution_count": 30,
     "metadata": {},
     "output_type": "execute_result"
    }
   ],
   "source": [
    "# Load in GDP.csv\n",
    "gdp = pd.read_csv(\"GDP.csv\")# Finish this line to load in the data!\n",
    "gdp.head()"
   ]
  },
  {
   "cell_type": "markdown",
   "metadata": {},
   "source": [
    "**Reflecting on the data:** Typically when we are looking at data over time we represent each time step as a row rather than a column. Let's transpose the dataset to get years as rows. Pandas has a built in transpose function -- see if you can figure out what it is!\n",
    "\n",
    "Example of Transposing:\n",
    "\n",
    "<img src=\"https://www.howtogeek.com/wp-content/uploads/2016/06/00_lead_image_transpose_word_table.png\" width=500px>\n",
    "\n",
    "&#9989;&nbsp; **Transpose the data** to flip the orientation of the rows and columns."
   ]
  },
  {
   "cell_type": "code",
   "execution_count": 31,
   "metadata": {},
   "outputs": [
    {
     "data": {
      "text/html": [
       "<div>\n",
       "<style scoped>\n",
       "    .dataframe tbody tr th:only-of-type {\n",
       "        vertical-align: middle;\n",
       "    }\n",
       "\n",
       "    .dataframe tbody tr th {\n",
       "        vertical-align: top;\n",
       "    }\n",
       "\n",
       "    .dataframe thead th {\n",
       "        text-align: right;\n",
       "    }\n",
       "</style>\n",
       "<table border=\"1\" class=\"dataframe\">\n",
       "  <thead>\n",
       "    <tr style=\"text-align: right;\">\n",
       "      <th></th>\n",
       "      <th>0</th>\n",
       "      <th>1</th>\n",
       "      <th>2</th>\n",
       "      <th>3</th>\n",
       "      <th>4</th>\n",
       "      <th>5</th>\n",
       "      <th>6</th>\n",
       "      <th>7</th>\n",
       "      <th>8</th>\n",
       "      <th>9</th>\n",
       "      <th>...</th>\n",
       "      <th>213</th>\n",
       "      <th>214</th>\n",
       "      <th>215</th>\n",
       "      <th>216</th>\n",
       "      <th>217</th>\n",
       "      <th>218</th>\n",
       "      <th>219</th>\n",
       "      <th>220</th>\n",
       "      <th>221</th>\n",
       "      <th>222</th>\n",
       "    </tr>\n",
       "  </thead>\n",
       "  <tbody>\n",
       "    <tr>\n",
       "      <th>Country Name</th>\n",
       "      <td>Afghanistan</td>\n",
       "      <td>Albania</td>\n",
       "      <td>Algeria</td>\n",
       "      <td>American Samoa</td>\n",
       "      <td>Andorra</td>\n",
       "      <td>Angola</td>\n",
       "      <td>Antigua and Barbuda</td>\n",
       "      <td>Argentina</td>\n",
       "      <td>Armenia</td>\n",
       "      <td>Aruba</td>\n",
       "      <td>...</td>\n",
       "      <td>Uzbekistan</td>\n",
       "      <td>Vanuatu</td>\n",
       "      <td>Venezuela, RB</td>\n",
       "      <td>Vietnam</td>\n",
       "      <td>Virgin Islands (U.S.)</td>\n",
       "      <td>West Bank and Gaza</td>\n",
       "      <td>World</td>\n",
       "      <td>Yemen, Rep.</td>\n",
       "      <td>Zambia</td>\n",
       "      <td>Zimbabwe</td>\n",
       "    </tr>\n",
       "    <tr>\n",
       "      <th>Country Code</th>\n",
       "      <td>AFG</td>\n",
       "      <td>ALB</td>\n",
       "      <td>DZA</td>\n",
       "      <td>ASM</td>\n",
       "      <td>AND</td>\n",
       "      <td>AGO</td>\n",
       "      <td>ATG</td>\n",
       "      <td>ARG</td>\n",
       "      <td>ARM</td>\n",
       "      <td>ABW</td>\n",
       "      <td>...</td>\n",
       "      <td>UZB</td>\n",
       "      <td>VUT</td>\n",
       "      <td>VEN</td>\n",
       "      <td>VNM</td>\n",
       "      <td>VIR</td>\n",
       "      <td>PSE</td>\n",
       "      <td>WLD</td>\n",
       "      <td>YEM</td>\n",
       "      <td>ZMB</td>\n",
       "      <td>ZWE</td>\n",
       "    </tr>\n",
       "    <tr>\n",
       "      <th>1960</th>\n",
       "      <td>5.37778e+08</td>\n",
       "      <td>NaN</td>\n",
       "      <td>2.72365e+09</td>\n",
       "      <td>NaN</td>\n",
       "      <td>NaN</td>\n",
       "      <td>NaN</td>\n",
       "      <td>NaN</td>\n",
       "      <td>NaN</td>\n",
       "      <td>NaN</td>\n",
       "      <td>NaN</td>\n",
       "      <td>...</td>\n",
       "      <td>NaN</td>\n",
       "      <td>NaN</td>\n",
       "      <td>7.77909e+09</td>\n",
       "      <td>NaN</td>\n",
       "      <td>NaN</td>\n",
       "      <td>NaN</td>\n",
       "      <td>1.37e+12</td>\n",
       "      <td>NaN</td>\n",
       "      <td>7.13e+08</td>\n",
       "      <td>1.05299e+09</td>\n",
       "    </tr>\n",
       "    <tr>\n",
       "      <th>1961</th>\n",
       "      <td>5.48889e+08</td>\n",
       "      <td>NaN</td>\n",
       "      <td>2.43478e+09</td>\n",
       "      <td>NaN</td>\n",
       "      <td>NaN</td>\n",
       "      <td>NaN</td>\n",
       "      <td>NaN</td>\n",
       "      <td>NaN</td>\n",
       "      <td>NaN</td>\n",
       "      <td>NaN</td>\n",
       "      <td>...</td>\n",
       "      <td>NaN</td>\n",
       "      <td>NaN</td>\n",
       "      <td>8.18909e+09</td>\n",
       "      <td>NaN</td>\n",
       "      <td>NaN</td>\n",
       "      <td>NaN</td>\n",
       "      <td>1.42e+12</td>\n",
       "      <td>NaN</td>\n",
       "      <td>6.96286e+08</td>\n",
       "      <td>1.09665e+09</td>\n",
       "    </tr>\n",
       "    <tr>\n",
       "      <th>1962</th>\n",
       "      <td>5.46667e+08</td>\n",
       "      <td>NaN</td>\n",
       "      <td>2.00147e+09</td>\n",
       "      <td>NaN</td>\n",
       "      <td>NaN</td>\n",
       "      <td>NaN</td>\n",
       "      <td>NaN</td>\n",
       "      <td>2.44506e+10</td>\n",
       "      <td>NaN</td>\n",
       "      <td>NaN</td>\n",
       "      <td>...</td>\n",
       "      <td>NaN</td>\n",
       "      <td>NaN</td>\n",
       "      <td>8.94697e+09</td>\n",
       "      <td>NaN</td>\n",
       "      <td>NaN</td>\n",
       "      <td>NaN</td>\n",
       "      <td>1.53e+12</td>\n",
       "      <td>NaN</td>\n",
       "      <td>6.93143e+08</td>\n",
       "      <td>1.1176e+09</td>\n",
       "    </tr>\n",
       "  </tbody>\n",
       "</table>\n",
       "<p>5 rows × 223 columns</p>\n",
       "</div>"
      ],
      "text/plain": [
       "                      0        1            2               3        4    \\\n",
       "Country Name  Afghanistan  Albania      Algeria  American Samoa  Andorra   \n",
       "Country Code          AFG      ALB          DZA             ASM      AND   \n",
       "1960          5.37778e+08      NaN  2.72365e+09             NaN      NaN   \n",
       "1961          5.48889e+08      NaN  2.43478e+09             NaN      NaN   \n",
       "1962          5.46667e+08      NaN  2.00147e+09             NaN      NaN   \n",
       "\n",
       "                 5                    6            7        8      9    ...  \\\n",
       "Country Name  Angola  Antigua and Barbuda    Argentina  Armenia  Aruba  ...   \n",
       "Country Code     AGO                  ATG          ARG      ARM    ABW  ...   \n",
       "1960             NaN                  NaN          NaN      NaN    NaN  ...   \n",
       "1961             NaN                  NaN          NaN      NaN    NaN  ...   \n",
       "1962             NaN                  NaN  2.44506e+10      NaN    NaN  ...   \n",
       "\n",
       "                     213      214            215      216  \\\n",
       "Country Name  Uzbekistan  Vanuatu  Venezuela, RB  Vietnam   \n",
       "Country Code         UZB      VUT            VEN      VNM   \n",
       "1960                 NaN      NaN    7.77909e+09      NaN   \n",
       "1961                 NaN      NaN    8.18909e+09      NaN   \n",
       "1962                 NaN      NaN    8.94697e+09      NaN   \n",
       "\n",
       "                                217                 218       219  \\\n",
       "Country Name  Virgin Islands (U.S.)  West Bank and Gaza     World   \n",
       "Country Code                    VIR                 PSE       WLD   \n",
       "1960                            NaN                 NaN  1.37e+12   \n",
       "1961                            NaN                 NaN  1.42e+12   \n",
       "1962                            NaN                 NaN  1.53e+12   \n",
       "\n",
       "                      220          221          222  \n",
       "Country Name  Yemen, Rep.       Zambia     Zimbabwe  \n",
       "Country Code          YEM          ZMB          ZWE  \n",
       "1960                  NaN     7.13e+08  1.05299e+09  \n",
       "1961                  NaN  6.96286e+08  1.09665e+09  \n",
       "1962                  NaN  6.93143e+08   1.1176e+09  \n",
       "\n",
       "[5 rows x 223 columns]"
      ]
     },
     "execution_count": 31,
     "metadata": {},
     "output_type": "execute_result"
    }
   ],
   "source": [
    "# Transpose the dataframe here and check to see if it worked\n",
    "gdp = gdp.T\n",
    "gdp.head()"
   ]
  },
  {
   "cell_type": "markdown",
   "metadata": {},
   "source": [
    "One of the benefits of Pandas Dataframe is being able to index a column by name rather than a number.\n",
    "\n",
    "&#9989;&nbsp; **Modify the dataframe so that each country name is used as the column headers by assigning the first row of the dataframe to be the column headers.**\n",
    "\n",
    "You may want to use `.iloc` to do this.\n",
    "\n",
    "If done correctly, you then should be able to index a column out of our dataframe using `gdp['United States']`, for example."
   ]
  },
  {
   "cell_type": "code",
   "execution_count": 32,
   "metadata": {},
   "outputs": [
    {
     "data": {
      "text/html": [
       "<div>\n",
       "<style scoped>\n",
       "    .dataframe tbody tr th:only-of-type {\n",
       "        vertical-align: middle;\n",
       "    }\n",
       "\n",
       "    .dataframe tbody tr th {\n",
       "        vertical-align: top;\n",
       "    }\n",
       "\n",
       "    .dataframe thead th {\n",
       "        text-align: right;\n",
       "    }\n",
       "</style>\n",
       "<table border=\"1\" class=\"dataframe\">\n",
       "  <thead>\n",
       "    <tr style=\"text-align: right;\">\n",
       "      <th>Country Name</th>\n",
       "      <th>Afghanistan</th>\n",
       "      <th>Albania</th>\n",
       "      <th>Algeria</th>\n",
       "      <th>American Samoa</th>\n",
       "      <th>Andorra</th>\n",
       "      <th>Angola</th>\n",
       "      <th>Antigua and Barbuda</th>\n",
       "      <th>Argentina</th>\n",
       "      <th>Armenia</th>\n",
       "      <th>Aruba</th>\n",
       "      <th>...</th>\n",
       "      <th>Uzbekistan</th>\n",
       "      <th>Vanuatu</th>\n",
       "      <th>Venezuela, RB</th>\n",
       "      <th>Vietnam</th>\n",
       "      <th>Virgin Islands (U.S.)</th>\n",
       "      <th>West Bank and Gaza</th>\n",
       "      <th>World</th>\n",
       "      <th>Yemen, Rep.</th>\n",
       "      <th>Zambia</th>\n",
       "      <th>Zimbabwe</th>\n",
       "    </tr>\n",
       "  </thead>\n",
       "  <tbody>\n",
       "    <tr>\n",
       "      <th>Country Name</th>\n",
       "      <td>Afghanistan</td>\n",
       "      <td>Albania</td>\n",
       "      <td>Algeria</td>\n",
       "      <td>American Samoa</td>\n",
       "      <td>Andorra</td>\n",
       "      <td>Angola</td>\n",
       "      <td>Antigua and Barbuda</td>\n",
       "      <td>Argentina</td>\n",
       "      <td>Armenia</td>\n",
       "      <td>Aruba</td>\n",
       "      <td>...</td>\n",
       "      <td>Uzbekistan</td>\n",
       "      <td>Vanuatu</td>\n",
       "      <td>Venezuela, RB</td>\n",
       "      <td>Vietnam</td>\n",
       "      <td>Virgin Islands (U.S.)</td>\n",
       "      <td>West Bank and Gaza</td>\n",
       "      <td>World</td>\n",
       "      <td>Yemen, Rep.</td>\n",
       "      <td>Zambia</td>\n",
       "      <td>Zimbabwe</td>\n",
       "    </tr>\n",
       "    <tr>\n",
       "      <th>Country Code</th>\n",
       "      <td>AFG</td>\n",
       "      <td>ALB</td>\n",
       "      <td>DZA</td>\n",
       "      <td>ASM</td>\n",
       "      <td>AND</td>\n",
       "      <td>AGO</td>\n",
       "      <td>ATG</td>\n",
       "      <td>ARG</td>\n",
       "      <td>ARM</td>\n",
       "      <td>ABW</td>\n",
       "      <td>...</td>\n",
       "      <td>UZB</td>\n",
       "      <td>VUT</td>\n",
       "      <td>VEN</td>\n",
       "      <td>VNM</td>\n",
       "      <td>VIR</td>\n",
       "      <td>PSE</td>\n",
       "      <td>WLD</td>\n",
       "      <td>YEM</td>\n",
       "      <td>ZMB</td>\n",
       "      <td>ZWE</td>\n",
       "    </tr>\n",
       "    <tr>\n",
       "      <th>1960</th>\n",
       "      <td>5.37778e+08</td>\n",
       "      <td>NaN</td>\n",
       "      <td>2.72365e+09</td>\n",
       "      <td>NaN</td>\n",
       "      <td>NaN</td>\n",
       "      <td>NaN</td>\n",
       "      <td>NaN</td>\n",
       "      <td>NaN</td>\n",
       "      <td>NaN</td>\n",
       "      <td>NaN</td>\n",
       "      <td>...</td>\n",
       "      <td>NaN</td>\n",
       "      <td>NaN</td>\n",
       "      <td>7.77909e+09</td>\n",
       "      <td>NaN</td>\n",
       "      <td>NaN</td>\n",
       "      <td>NaN</td>\n",
       "      <td>1.37e+12</td>\n",
       "      <td>NaN</td>\n",
       "      <td>7.13e+08</td>\n",
       "      <td>1.05299e+09</td>\n",
       "    </tr>\n",
       "    <tr>\n",
       "      <th>1961</th>\n",
       "      <td>5.48889e+08</td>\n",
       "      <td>NaN</td>\n",
       "      <td>2.43478e+09</td>\n",
       "      <td>NaN</td>\n",
       "      <td>NaN</td>\n",
       "      <td>NaN</td>\n",
       "      <td>NaN</td>\n",
       "      <td>NaN</td>\n",
       "      <td>NaN</td>\n",
       "      <td>NaN</td>\n",
       "      <td>...</td>\n",
       "      <td>NaN</td>\n",
       "      <td>NaN</td>\n",
       "      <td>8.18909e+09</td>\n",
       "      <td>NaN</td>\n",
       "      <td>NaN</td>\n",
       "      <td>NaN</td>\n",
       "      <td>1.42e+12</td>\n",
       "      <td>NaN</td>\n",
       "      <td>6.96286e+08</td>\n",
       "      <td>1.09665e+09</td>\n",
       "    </tr>\n",
       "    <tr>\n",
       "      <th>1962</th>\n",
       "      <td>5.46667e+08</td>\n",
       "      <td>NaN</td>\n",
       "      <td>2.00147e+09</td>\n",
       "      <td>NaN</td>\n",
       "      <td>NaN</td>\n",
       "      <td>NaN</td>\n",
       "      <td>NaN</td>\n",
       "      <td>2.44506e+10</td>\n",
       "      <td>NaN</td>\n",
       "      <td>NaN</td>\n",
       "      <td>...</td>\n",
       "      <td>NaN</td>\n",
       "      <td>NaN</td>\n",
       "      <td>8.94697e+09</td>\n",
       "      <td>NaN</td>\n",
       "      <td>NaN</td>\n",
       "      <td>NaN</td>\n",
       "      <td>1.53e+12</td>\n",
       "      <td>NaN</td>\n",
       "      <td>6.93143e+08</td>\n",
       "      <td>1.1176e+09</td>\n",
       "    </tr>\n",
       "  </tbody>\n",
       "</table>\n",
       "<p>5 rows × 223 columns</p>\n",
       "</div>"
      ],
      "text/plain": [
       "Country Name  Afghanistan  Albania      Algeria  American Samoa  Andorra  \\\n",
       "Country Name  Afghanistan  Albania      Algeria  American Samoa  Andorra   \n",
       "Country Code          AFG      ALB          DZA             ASM      AND   \n",
       "1960          5.37778e+08      NaN  2.72365e+09             NaN      NaN   \n",
       "1961          5.48889e+08      NaN  2.43478e+09             NaN      NaN   \n",
       "1962          5.46667e+08      NaN  2.00147e+09             NaN      NaN   \n",
       "\n",
       "Country Name  Angola  Antigua and Barbuda    Argentina  Armenia  Aruba  ...  \\\n",
       "Country Name  Angola  Antigua and Barbuda    Argentina  Armenia  Aruba  ...   \n",
       "Country Code     AGO                  ATG          ARG      ARM    ABW  ...   \n",
       "1960             NaN                  NaN          NaN      NaN    NaN  ...   \n",
       "1961             NaN                  NaN          NaN      NaN    NaN  ...   \n",
       "1962             NaN                  NaN  2.44506e+10      NaN    NaN  ...   \n",
       "\n",
       "Country Name  Uzbekistan  Vanuatu  Venezuela, RB  Vietnam  \\\n",
       "Country Name  Uzbekistan  Vanuatu  Venezuela, RB  Vietnam   \n",
       "Country Code         UZB      VUT            VEN      VNM   \n",
       "1960                 NaN      NaN    7.77909e+09      NaN   \n",
       "1961                 NaN      NaN    8.18909e+09      NaN   \n",
       "1962                 NaN      NaN    8.94697e+09      NaN   \n",
       "\n",
       "Country Name  Virgin Islands (U.S.)  West Bank and Gaza     World  \\\n",
       "Country Name  Virgin Islands (U.S.)  West Bank and Gaza     World   \n",
       "Country Code                    VIR                 PSE       WLD   \n",
       "1960                            NaN                 NaN  1.37e+12   \n",
       "1961                            NaN                 NaN  1.42e+12   \n",
       "1962                            NaN                 NaN  1.53e+12   \n",
       "\n",
       "Country Name  Yemen, Rep.       Zambia     Zimbabwe  \n",
       "Country Name  Yemen, Rep.       Zambia     Zimbabwe  \n",
       "Country Code          YEM          ZMB          ZWE  \n",
       "1960                  NaN     7.13e+08  1.05299e+09  \n",
       "1961                  NaN  6.96286e+08  1.09665e+09  \n",
       "1962                  NaN  6.93143e+08   1.1176e+09  \n",
       "\n",
       "[5 rows x 223 columns]"
      ]
     },
     "execution_count": 32,
     "metadata": {},
     "output_type": "execute_result"
    }
   ],
   "source": [
    "# Change the column headers to be the country names here.\n",
    "gdp.columns = gdp.iloc[0]\n",
    "gdp.head()\n"
   ]
  },
  {
   "cell_type": "markdown",
   "metadata": {},
   "source": [
    "This is looking pretty good!\n",
    "\n",
    "Of course, now we have couple of redundant rows, \"Country Name\" and \"Country Code\". We don't really need these any more now that we've change the column labels.\n",
    "\n",
    "&#9989;&nbsp; **Remove these two rows, since they don't contain yearly GDP data.** There's more than one way to do this. One option is to use the Pandas `drop()` function. But you can also do this with clever indexing using `iloc`.\n",
    "\n",
    "**Careful:** Depending on how you do this, if you run a cell that removes the first couple lines and you re-run the cell, you may continue to remove more lines. After you do all of these data frame manipulations, make sure your data starts in 1960. **You may need to restart your notebook and reload the data if something goes wrong.**"
   ]
  },
  {
   "cell_type": "code",
   "execution_count": 34,
   "metadata": {},
   "outputs": [],
   "source": [
    "# Try to remove the rows that don't represent years here\n",
    "gdp = gdp.drop([\"Country Name\",\"Country Code\"])"
   ]
  },
  {
   "cell_type": "markdown",
   "metadata": {},
   "source": [
    "Now our dataset should be in an easier format. The next step is to examine the structure of our data.\n",
    "\n",
    "&#9989;&nbsp; **Review the following code and comment what each line is doing.**"
   ]
  },
  {
   "cell_type": "code",
   "execution_count": 36,
   "metadata": {
    "scrolled": true
   },
   "outputs": [
    {
     "name": "stdout",
     "output_type": "stream",
     "text": [
      "Index(['1960', '1961', '1962', '1963', '1964', '1965', '1966', '1967', '1968',\n",
      "       '1969', '1970', '1971', '1972', '1973', '1974', '1975', '1976', '1977',\n",
      "       '1978', '1979', '1980', '1981', '1982', '1983', '1984', '1985', '1986',\n",
      "       '1987', '1988', '1989', '1990', '1991', '1992', '1993', '1994', '1995',\n",
      "       '1996', '1997', '1998', '1999', '2000', '2001', '2002', '2003', '2004',\n",
      "       '2005', '2006', '2007', '2008', '2009', '2010', '2011', '2012', '2013',\n",
      "       '2014', '2015', '2016', '2017', '2018'],\n",
      "      dtype='object')\n",
      "<class 'str'>\n"
     ]
    }
   ],
   "source": [
    "print(gdp.index) #Printing all the indexes of the dataframe\n",
    "\n",
    "print(type(gdp.index[0])) #printing the type of each index of the dataframe"
   ]
  },
  {
   "cell_type": "markdown",
   "metadata": {},
   "source": [
    "We can see the index column is made up of strings representing years, which isn't ideal!\n",
    "\n",
    "The code below will change the data type from strings to integers. This will be helpful for when we begin plotting because when you try to plot strings as numbers it doesn't usually work out very well!"
   ]
  },
  {
   "cell_type": "code",
   "execution_count": 37,
   "metadata": {},
   "outputs": [
    {
     "data": {
      "text/plain": [
       "Int64Index([1960, 1961, 1962, 1963, 1964, 1965, 1966, 1967, 1968, 1969, 1970,\n",
       "            1971, 1972, 1973, 1974, 1975, 1976, 1977, 1978, 1979, 1980, 1981,\n",
       "            1982, 1983, 1984, 1985, 1986, 1987, 1988, 1989, 1990, 1991, 1992,\n",
       "            1993, 1994, 1995, 1996, 1997, 1998, 1999, 2000, 2001, 2002, 2003,\n",
       "            2004, 2005, 2006, 2007, 2008, 2009, 2010, 2011, 2012, 2013, 2014,\n",
       "            2015, 2016, 2017, 2018],\n",
       "           dtype='int64')"
      ]
     },
     "execution_count": 37,
     "metadata": {},
     "output_type": "execute_result"
    }
   ],
   "source": [
    "gdp.index = gdp.index.astype(int)\n",
    "gdp.index"
   ]
  },
  {
   "cell_type": "markdown",
   "metadata": {},
   "source": [
    "&#9989;&nbsp; **Now pick 2 countries and print the GDP for year 1975 using `.loc` and the column name.**"
   ]
  },
  {
   "cell_type": "code",
   "execution_count": 51,
   "metadata": {},
   "outputs": [
    {
     "name": "stdout",
     "output_type": "stream",
     "text": [
      "Country Name\n",
      "India    9.84728e+10\n",
      "China       1.63e+11\n",
      "Name: 1975, dtype: object\n"
     ]
    }
   ],
   "source": [
    "# Put your code here\n",
    "print(gdp.loc[1975,['India','China']])\n"
   ]
  },
  {
   "cell_type": "markdown",
   "metadata": {},
   "source": [
    "&#9989;&nbsp; Now, **Plot those two countries GDP *in billions of dollars* from 1960-2018, make sure to have proper labels and legends.**\n"
   ]
  },
  {
   "cell_type": "code",
   "execution_count": 56,
   "metadata": {},
   "outputs": [
    {
     "data": {
      "text/plain": [
       "Text(0, 0.5, 'GDP in billions of dollars')"
      ]
     },
     "execution_count": 56,
     "metadata": {},
     "output_type": "execute_result"
    },
    {
     "data": {
      "image/png": "[encoded data removed]",
      "text/plain": [
       "<Figure size 432x288 with 1 Axes>"
      ]
     },
     "metadata": {
      "needs_background": "light"
     },
     "output_type": "display_data"
    }
   ],
   "source": [
    "# Put your plotting commands here\n",
    "ax = gdp[['India','China']].apply(lambda x: x/1000000000).plot()\n",
    "ax.set_xlabel(\"Years\")\n",
    "ax.set_ylabel(\"GDP in billions of dollars\")"
   ]
  },
  {
   "cell_type": "markdown",
   "metadata": {},
   "source": [
    "&#9989;&nbsp; **Question** Is this a good way visual comparison for the two countries? If one country has a much larger GDP or much larger population than the other country what would be a better way to normalize or compare the data? This might involve doing some sort of calculation or visualizing the data differently."
   ]
  },
  {
   "cell_type": "markdown",
   "metadata": {},
   "source": [
    "<font size=+3>&#9998;</font> *Applying log to the data might help in reducing the drastic difference while visualizing the data. Apart from this, we can normalize by using a min max scaling. Also, considering the rate of gdp might be a good idea*"
   ]
  },
  {
   "cell_type": "markdown",
   "metadata": {},
   "source": [
    "### Exploring the log-linear plot\n",
    "\n",
    "During the COVID-19 pandemic, some of the visualizations floating around that show the numbers of confirmed cases in various places around the world have been \"log-linear\" plots which uses a logarithmic scale (tick marks indicate powers of 10) on the y-axis and a linear scale on the x-axis. Some folks have even written papers about [how these sort of plots may or may not impact how people perceive the need for confinement](https://www.ncbi.nlm.nih.gov/pmc/articles/PMC7200843/) to stop the spread of the virus.\n",
    "\n",
    "Matplotlib actually makes creating such a plot quite easy with the `semilogy()` function. You can find the documentation for this function [here](https://matplotlib.org/api/_as_gen/matplotlib.pyplot.semilogy.html).\n",
    "\n",
    "&#9989;&nbsp; Try using `semilogy()` with the GDP data you just plotted for two different countries to see if it facilitates a better comparison!"
   ]
  },
  {
   "cell_type": "code",
   "execution_count": 61,
   "metadata": {},
   "outputs": [
    {
     "data": {
      "image/png": "[encoded data removed]",
      "text/plain": [
       "<Figure size 432x288 with 1 Axes>"
      ]
     },
     "metadata": {
      "needs_background": "light"
     },
     "output_type": "display_data"
    }
   ],
   "source": [
    "# Try making a \"semilogy\" plot here\n",
    "fig = plt.semilogy(gdp[['India','China']].apply(lambda x: x/1000000000))\n"
   ]
  },
  {
   "cell_type": "markdown",
   "metadata": {},
   "source": [
    "&#9989;&nbsp; **Question** do you find this to be a better way to visualize the data, yes or no? Explain your reasoning!  \n"
   ]
  },
  {
   "cell_type": "markdown",
   "metadata": {},
   "source": [
    "<font size=+3>&#9998;</font> *Yes. It definitely looks like we are doing an apple to apple comparision. But, not sure if this is the correct way. Since, scaling down one means we are taking approximations.*"
   ]
  },
  {
   "cell_type": "markdown",
   "metadata": {},
   "source": [
    "### Analyzing growth rates\n",
    "\n",
    "One way to compare GDP between different countries in a way that is unit free would be to consider the countries _growth rates_. The growth rate for a year would be equal to the **percent change** going from one year to another, defined like so:\n",
    "\n",
    "* Growth Rate in 1961 = (GDP in year 1961 - GDP in year 1960) / GDP in year 1960\n",
    "\n",
    "&#9989;&nbsp; **Lets plot two countries growth rates on the same plot over time making sure to properly label our graph.**\n",
    "\n",
    "(Pandas might have a function that can compute the percent change for you -- time to consult the internet again!)\n",
    "\n",
    "**Try using the Pandas plotting functions for this part: https://pandas.pydata.org/pandas-docs/stable/user_guide/visualization.html**\n",
    "\n"
   ]
  },
  {
   "cell_type": "code",
   "execution_count": 66,
   "metadata": {},
   "outputs": [
    {
     "data": {
      "text/plain": [
       "Text(0, 0.5, 'GDP in billions of dollars')"
      ]
     },
     "execution_count": 66,
     "metadata": {},
     "output_type": "execute_result"
    },
    {
     "data": {
      "image/png": "[encoded data removed]",
      "text/plain": [
       "<Figure size 432x288 with 1 Axes>"
      ]
     },
     "metadata": {
      "needs_background": "light"
     },
     "output_type": "display_data"
    }
   ],
   "source": [
    "# Calculate and plot the growth rates as a function of time\n",
    "ax = gdp[['India','China']].pct_change().plot()\n",
    "ax.set_xlabel(\"Years\")\n",
    "ax.set_ylabel(\"GDP in billions of dollars\")"
   ]
  },
  {
   "cell_type": "markdown",
   "metadata": {},
   "source": [
    "&#9989;&nbsp; **Question**: Why might comparing growth rates be a better comparison for countries that have GDP's of very different magnitudes?\n"
   ]
  },
  {
   "cell_type": "markdown",
   "metadata": {},
   "source": [
    "<font size=+3>&#9998;</font> *Considering growth rates might tell us whether one country had a better gdp compared to its previous years. This elimiates the problem when we are comparing two countries of different magnitude since, we are comparing each with itself*"
   ]
  },
  {
   "cell_type": "markdown",
   "metadata": {},
   "source": [
    "---"
   ]
  },
  {
   "cell_type": "markdown",
   "metadata": {},
   "source": [
    "## Part 3: Data Manipulation (time permitting or if you're interested in exploring the data further on your own time!)\n",
    "### Filtering, sorting, and calculating new quantities \n",
    "\n",
    "Now that you've been able to clean, transform, and visualize the data, but for an extra challenge let's use any time you have remaining to work on filtering and sorting your data.\n",
    "\n",
    "&#9989;&nbsp; **Filter the top 10% countries by GDP in 2018, print their names, and store the names in a list in ordered by their GDP ranking.**\n",
    "\n",
    "(Hint Pandas has a `quantile` function that could be useful to find the 10% cut off as well as a function for sorting the values)\n",
    "\n",
    "**Make sure the names make sense, there might be an entry that doesn't belong and skews your data. If there is a non country entry in the dataset remove that row!**"
   ]
  },
  {
   "cell_type": "code",
   "execution_count": null,
   "metadata": {},
   "outputs": [],
   "source": [
    "# Put your code for finding the countries with the highest 10 GDP values and sorting them here\n"
   ]
  },
  {
   "cell_type": "markdown",
   "metadata": {},
   "source": [
    "&#9989;&nbsp; **Let's take a closer look at how the countries rank by plotting a horizontal bar graph of the top 10% countries GDP in billions by ranking order starting with the highest GDP down.**\n",
    "\n",
    "Pandas has horizontal bar graph function as well -- isn't Pandas handy?"
   ]
  },
  {
   "cell_type": "code",
   "execution_count": null,
   "metadata": {},
   "outputs": [],
   "source": [
    "# Make your horizonal bar graph here\n"
   ]
  },
  {
   "cell_type": "markdown",
   "metadata": {},
   "source": [
    "&#9989;&nbsp; **Using that list of the top 10% of countries, create a subset GDP dataframe that has data for only the last 20 years for countries in your list of top 10%.**\n",
    "\n",
    "We can create a subset by setting a new variable to equal the subset of the Dataframe. \n",
    "\n",
    "(something like: Subset = DataFrame[list_of_columns_headers])\n",
    "\n",
    "Then, **calculate the standard deviation of GDP for each country in the subset dataframe over the last 20 years. Recreate the Horizontal Bargraph above with but using the standard deviation.**"
   ]
  },
  {
   "cell_type": "code",
   "execution_count": null,
   "metadata": {},
   "outputs": [],
   "source": [
    "# Put your code here and create additional code cells as needed\n"
   ]
  },
  {
   "cell_type": "markdown",
   "metadata": {},
   "source": [
    "&#9989;&nbsp; **Are there similiarities between the GDP graph and the standard deviation graph? Explain why you think they look similiar and what the limitation is with using standard deviation to compare the variation of the GDP for different contries.**"
   ]
  },
  {
   "cell_type": "markdown",
   "metadata": {},
   "source": [
    "<font size=+3>&#9998;</font> *Put your answer here*"
   ]
  },
  {
   "cell_type": "markdown",
   "metadata": {},
   "source": [
    "---"
   ]
  },
  {
   "cell_type": "markdown",
   "metadata": {},
   "source": [
    "**Let's pause and think about the following example:**"
   ]
  },
  {
   "cell_type": "code",
   "execution_count": null,
   "metadata": {},
   "outputs": [],
   "source": [
    "X = np.array([2,4,10,15,30,50])\n",
    "print(np.std(X))\n",
    "\n",
    "X2 = X*50\n",
    "print(np.std(X2))"
   ]
  },
  {
   "cell_type": "markdown",
   "metadata": {},
   "source": [
    "The idea here is the spread between the numbers in the datasets `X` & `X2` are the same in when considered as a percentage of the total, but the standard deviation will be proportionally higher for `X2`. This means the difference between each observation and the mean from a percentage basis is the same, but because the values in `X2` are 50 times larger, the standard deviation will be 50 times larger.\n",
    "\n",
    "The take away is if we want to compare how much a countries GDP growth varies relative to another country, we want an apples to apples comparison. For example, taking the standard deviation of the United States compared to Thailand we would expect United States to have a higher standard deviation because the US GDP is much higher. When in reality, Thailand's GDP varies relatively more than the United States GDP varies.\n"
   ]
  },
  {
   "cell_type": "markdown",
   "metadata": {},
   "source": [
    "---"
   ]
  },
  {
   "cell_type": "markdown",
   "metadata": {},
   "source": [
    " "
   ]
  },
  {
   "cell_type": "markdown",
   "metadata": {},
   "source": [
    "In order to compare the variation in GDP by countries of different magnitudes we want to be looking at the change in GDP from a percentage view.\n",
    "\n",
    "&#9989;&nbsp; **Recreate the horizontal bar graph again, but this time take the standard deviation of the percent changes, or growth rates, of GDP for the last 20 years.**"
   ]
  },
  {
   "cell_type": "code",
   "execution_count": null,
   "metadata": {},
   "outputs": [],
   "source": [
    "# Put your code here\n"
   ]
  },
  {
   "cell_type": "markdown",
   "metadata": {},
   "source": [
    "&#9989;&nbsp; **What do you observe? Why is taking the standard deviation of growth rates a better assessment of volatility than standard deviation of normal GDP for this data?**\n",
    "\n"
   ]
  },
  {
   "cell_type": "markdown",
   "metadata": {},
   "source": [
    "<font size=+3>&#9998;</font> *Put your answer here*"
   ]
  },
  {
   "cell_type": "markdown",
   "metadata": {},
   "source": [
    "## Congratulations, you're done!\n",
    "\n",
    "Submit this assignment by uploading your notebook to the course Desire2Learn web page.  Go to the \"In-Class Assignments\" folder, find the appropriate submission link, and upload everything there. Make sure your name is on it!"
   ]
  },
  {
   "cell_type": "markdown",
   "metadata": {},
   "source": [
    "&#169; Copyright 2019,  Michigan State University Board of Trustees"
   ]
  },
  {
   "cell_type": "markdown",
   "metadata": {},
   "source": [
    "---\n"
   ]
  }
 ],
 "metadata": {
  "kernelspec": {
   "display_name": "Python 3",
   "language": "python",
   "name": "python3"
  },
  "language_info": {
   "codemirror_mode": {
    "name": "ipython",
    "version": 3
   },
   "file_extension": ".py",
   "mimetype": "text/x-python",
   "name": "python",
   "nbconvert_exporter": "python",
   "pygments_lexer": "ipython3",
   "version": "3.8.3"
  }
 },
 "nbformat": 4,
 "nbformat_minor": 4
}
